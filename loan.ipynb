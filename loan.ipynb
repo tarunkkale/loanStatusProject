{
 "cells": [
  {
   "cell_type": "markdown",
   "id": "212c8ad0",
   "metadata": {},
   "source": [
    "Summarize the loan status data analysis program.\n"
   ]
  },
  {
   "cell_type": "markdown",
   "id": "51e06ef3",
   "metadata": {},
   "source": [
    "import seaborn as sns\n",
    "import pandas as pd\n",
    "import numpy as np\n",
    "import matplotlib.pyplot as plt"
   ]
  },
  {
   "cell_type": "code",
   "execution_count": 347,
   "id": "178ff1cb",
   "metadata": {},
   "outputs": [],
   "source": [
    "import seaborn as sns\n",
    "import pandas as pd\n",
    "import numpy as np\n",
    "import matplotlib.pyplot as plt"
   ]
  },
  {
   "cell_type": "markdown",
   "id": "7c40418e",
   "metadata": {},
   "source": [
    "DATA UNDERSTANDING(column name)\n",
    "\n"
   ]
  },
  {
   "cell_type": "code",
   "execution_count": 348,
   "id": "08472cb7",
   "metadata": {},
   "outputs": [
    {
     "data": {
      "text/html": [
       "<div>\n",
       "<style scoped>\n",
       "    .dataframe tbody tr th:only-of-type {\n",
       "        vertical-align: middle;\n",
       "    }\n",
       "\n",
       "    .dataframe tbody tr th {\n",
       "        vertical-align: top;\n",
       "    }\n",
       "\n",
       "    .dataframe thead th {\n",
       "        text-align: right;\n",
       "    }\n",
       "</style>\n",
       "<table border=\"1\" class=\"dataframe\">\n",
       "  <thead>\n",
       "    <tr style=\"text-align: right;\">\n",
       "      <th></th>\n",
       "      <th>Loan_ID</th>\n",
       "      <th>Gender</th>\n",
       "      <th>Married</th>\n",
       "      <th>Dependents</th>\n",
       "      <th>Education</th>\n",
       "      <th>Self_Employed</th>\n",
       "      <th>ApplicantIncome</th>\n",
       "      <th>CoapplicantIncome</th>\n",
       "      <th>LoanAmount</th>\n",
       "      <th>Loan_Amount_Term</th>\n",
       "      <th>Credit_History</th>\n",
       "      <th>Property_Area</th>\n",
       "      <th>Loan_Status</th>\n",
       "    </tr>\n",
       "  </thead>\n",
       "  <tbody>\n",
       "    <tr>\n",
       "      <th>0</th>\n",
       "      <td>LP001002</td>\n",
       "      <td>Male</td>\n",
       "      <td>No</td>\n",
       "      <td>0</td>\n",
       "      <td>Graduate</td>\n",
       "      <td>No</td>\n",
       "      <td>5849</td>\n",
       "      <td>0.0</td>\n",
       "      <td>NaN</td>\n",
       "      <td>360.0</td>\n",
       "      <td>1.0</td>\n",
       "      <td>Urban</td>\n",
       "      <td>Y</td>\n",
       "    </tr>\n",
       "    <tr>\n",
       "      <th>1</th>\n",
       "      <td>LP001003</td>\n",
       "      <td>Male</td>\n",
       "      <td>Yes</td>\n",
       "      <td>1</td>\n",
       "      <td>Graduate</td>\n",
       "      <td>No</td>\n",
       "      <td>4583</td>\n",
       "      <td>1508.0</td>\n",
       "      <td>128.0</td>\n",
       "      <td>360.0</td>\n",
       "      <td>1.0</td>\n",
       "      <td>Rural</td>\n",
       "      <td>N</td>\n",
       "    </tr>\n",
       "    <tr>\n",
       "      <th>2</th>\n",
       "      <td>LP001005</td>\n",
       "      <td>Male</td>\n",
       "      <td>Yes</td>\n",
       "      <td>0</td>\n",
       "      <td>Graduate</td>\n",
       "      <td>Yes</td>\n",
       "      <td>3000</td>\n",
       "      <td>0.0</td>\n",
       "      <td>66.0</td>\n",
       "      <td>360.0</td>\n",
       "      <td>1.0</td>\n",
       "      <td>Urban</td>\n",
       "      <td>Y</td>\n",
       "    </tr>\n",
       "    <tr>\n",
       "      <th>3</th>\n",
       "      <td>LP001006</td>\n",
       "      <td>Male</td>\n",
       "      <td>Yes</td>\n",
       "      <td>0</td>\n",
       "      <td>Not Graduate</td>\n",
       "      <td>No</td>\n",
       "      <td>2583</td>\n",
       "      <td>2358.0</td>\n",
       "      <td>120.0</td>\n",
       "      <td>360.0</td>\n",
       "      <td>1.0</td>\n",
       "      <td>Urban</td>\n",
       "      <td>Y</td>\n",
       "    </tr>\n",
       "    <tr>\n",
       "      <th>4</th>\n",
       "      <td>LP001008</td>\n",
       "      <td>Male</td>\n",
       "      <td>No</td>\n",
       "      <td>0</td>\n",
       "      <td>Graduate</td>\n",
       "      <td>No</td>\n",
       "      <td>6000</td>\n",
       "      <td>0.0</td>\n",
       "      <td>141.0</td>\n",
       "      <td>360.0</td>\n",
       "      <td>1.0</td>\n",
       "      <td>Urban</td>\n",
       "      <td>Y</td>\n",
       "    </tr>\n",
       "  </tbody>\n",
       "</table>\n",
       "</div>"
      ],
      "text/plain": [
       "    Loan_ID Gender Married Dependents     Education Self_Employed  \\\n",
       "0  LP001002   Male      No          0      Graduate            No   \n",
       "1  LP001003   Male     Yes          1      Graduate            No   \n",
       "2  LP001005   Male     Yes          0      Graduate           Yes   \n",
       "3  LP001006   Male     Yes          0  Not Graduate            No   \n",
       "4  LP001008   Male      No          0      Graduate            No   \n",
       "\n",
       "   ApplicantIncome  CoapplicantIncome  LoanAmount  Loan_Amount_Term  \\\n",
       "0             5849                0.0         NaN             360.0   \n",
       "1             4583             1508.0       128.0             360.0   \n",
       "2             3000                0.0        66.0             360.0   \n",
       "3             2583             2358.0       120.0             360.0   \n",
       "4             6000                0.0       141.0             360.0   \n",
       "\n",
       "   Credit_History Property_Area Loan_Status  \n",
       "0             1.0         Urban           Y  \n",
       "1             1.0         Rural           N  \n",
       "2             1.0         Urban           Y  \n",
       "3             1.0         Urban           Y  \n",
       "4             1.0         Urban           Y  "
      ]
     },
     "execution_count": 348,
     "metadata": {},
     "output_type": "execute_result"
    }
   ],
   "source": [
    "df=pd.read_csv(\"LoanData.csv\")\n",
    "df.head()"
   ]
  },
  {
   "cell_type": "markdown",
   "id": "4577801e",
   "metadata": {},
   "source": []
  },
  {
   "cell_type": "markdown",
   "id": "f9a3dec9",
   "metadata": {},
   "source": [
    "DATA EXPLORATION (understand inside each data)"
   ]
  },
  {
   "cell_type": "code",
   "execution_count": 349,
   "id": "2e40dc45",
   "metadata": {},
   "outputs": [
    {
     "name": "stdout",
     "output_type": "stream",
     "text": [
      "Index(['Loan_ID', 'Gender', 'Married', 'Dependents', 'Education',\n",
      "       'Self_Employed', 'ApplicantIncome', 'CoapplicantIncome', 'LoanAmount',\n",
      "       'Loan_Amount_Term', 'Credit_History', 'Property_Area', 'Loan_Status'],\n",
      "      dtype='object')\n",
      "13\n"
     ]
    }
   ],
   "source": [
    "#is column is repated or not or duplicated column is exist or not \n",
    "print(df.columns.unique())\n",
    "print(len(df.columns.unique()))\n",
    "\n"
   ]
  },
  {
   "cell_type": "markdown",
   "id": "4aab8a3c",
   "metadata": {},
   "source": [
    "observation :no column is reapted "
   ]
  },
  {
   "cell_type": "code",
   "execution_count": 350,
   "id": "d3c703e7",
   "metadata": {},
   "outputs": [
    {
     "data": {
      "text/plain": [
       "(614, 13)"
      ]
     },
     "execution_count": 350,
     "metadata": {},
     "output_type": "execute_result"
    }
   ],
   "source": [
    "len(df.index)\n",
    "len(df.columns)\n",
    "df.shape"
   ]
  },
  {
   "cell_type": "markdown",
   "id": "fa8052ab",
   "metadata": {},
   "source": [
    "observation 13 column and 614 row"
   ]
  },
  {
   "cell_type": "code",
   "execution_count": 351,
   "id": "9c43a78e",
   "metadata": {},
   "outputs": [
    {
     "data": {
      "text/plain": [
       "['Loan_ID',\n",
       " 'Gender',\n",
       " 'Married',\n",
       " 'Dependents',\n",
       " 'Education',\n",
       " 'Self_Employed',\n",
       " 'ApplicantIncome',\n",
       " 'CoapplicantIncome',\n",
       " 'LoanAmount',\n",
       " 'Loan_Amount_Term',\n",
       " 'Credit_History',\n",
       " 'Property_Area',\n",
       " 'Loan_Status']"
      ]
     },
     "execution_count": 351,
     "metadata": {},
     "output_type": "execute_result"
    }
   ],
   "source": [
    "df.columns.tolist()"
   ]
  },
  {
   "cell_type": "markdown",
   "id": "2728eb0f",
   "metadata": {},
   "source": [
    "now check inside "
   ]
  },
  {
   "cell_type": "code",
   "execution_count": 352,
   "id": "e8699bc4",
   "metadata": {},
   "outputs": [
    {
     "data": {
      "text/plain": [
       "array(['LP001002', 'LP001003', 'LP001005', 'LP001006', 'LP001008',\n",
       "       'LP001011', 'LP001013', 'LP001014', 'LP001018', 'LP001020',\n",
       "       'LP001024', 'LP001027', 'LP001028', 'LP001029', 'LP001030',\n",
       "       'LP001032', 'LP001034', 'LP001036', 'LP001038', 'LP001041',\n",
       "       'LP001043', 'LP001046', 'LP001047', 'LP001050', 'LP001052',\n",
       "       'LP001066', 'LP001068', 'LP001073', 'LP001086', 'LP001087',\n",
       "       'LP001091', 'LP001095', 'LP001097', 'LP001098', 'LP001100',\n",
       "       'LP001106', 'LP001109', 'LP001112', 'LP001114', 'LP001116',\n",
       "       'LP001119', 'LP001120', 'LP001123', 'LP001131', 'LP001136',\n",
       "       'LP001137', 'LP001138', 'LP001144', 'LP001146', 'LP001151',\n",
       "       'LP001155', 'LP001157', 'LP001164', 'LP001179', 'LP001186',\n",
       "       'LP001194', 'LP001195', 'LP001197', 'LP001198', 'LP001199',\n",
       "       'LP001205', 'LP001206', 'LP001207', 'LP001213', 'LP001222',\n",
       "       'LP001225', 'LP001228', 'LP001233', 'LP001238', 'LP001241',\n",
       "       'LP001243', 'LP001245', 'LP001248', 'LP001250', 'LP001253',\n",
       "       'LP001255', 'LP001256', 'LP001259', 'LP001263', 'LP001264',\n",
       "       'LP001265', 'LP001266', 'LP001267', 'LP001273', 'LP001275',\n",
       "       'LP001279', 'LP001280', 'LP001282', 'LP001289', 'LP001310',\n",
       "       'LP001316', 'LP001318', 'LP001319', 'LP001322', 'LP001325',\n",
       "       'LP001326', 'LP001327', 'LP001333', 'LP001334', 'LP001343',\n",
       "       'LP001345', 'LP001349', 'LP001350', 'LP001356', 'LP001357',\n",
       "       'LP001367', 'LP001369', 'LP001370', 'LP001379', 'LP001384',\n",
       "       'LP001385', 'LP001387', 'LP001391', 'LP001392', 'LP001398',\n",
       "       'LP001401', 'LP001404', 'LP001405', 'LP001421', 'LP001422',\n",
       "       'LP001426', 'LP001430', 'LP001431', 'LP001432', 'LP001439',\n",
       "       'LP001443', 'LP001448', 'LP001449', 'LP001451', 'LP001465',\n",
       "       'LP001469', 'LP001473', 'LP001478', 'LP001482', 'LP001487',\n",
       "       'LP001488', 'LP001489', 'LP001491', 'LP001492', 'LP001493',\n",
       "       'LP001497', 'LP001498', 'LP001504', 'LP001507', 'LP001508',\n",
       "       'LP001514', 'LP001516', 'LP001518', 'LP001519', 'LP001520',\n",
       "       'LP001528', 'LP001529', 'LP001531', 'LP001532', 'LP001535',\n",
       "       'LP001536', 'LP001541', 'LP001543', 'LP001546', 'LP001552',\n",
       "       'LP001560', 'LP001562', 'LP001565', 'LP001570', 'LP001572',\n",
       "       'LP001574', 'LP001577', 'LP001578', 'LP001579', 'LP001580',\n",
       "       'LP001581', 'LP001585', 'LP001586', 'LP001594', 'LP001603',\n",
       "       'LP001606', 'LP001608', 'LP001610', 'LP001616', 'LP001630',\n",
       "       'LP001633', 'LP001634', 'LP001636', 'LP001637', 'LP001639',\n",
       "       'LP001640', 'LP001641', 'LP001643', 'LP001644', 'LP001647',\n",
       "       'LP001653', 'LP001656', 'LP001657', 'LP001658', 'LP001664',\n",
       "       'LP001665', 'LP001666', 'LP001669', 'LP001671', 'LP001673',\n",
       "       'LP001674', 'LP001677', 'LP001682', 'LP001688', 'LP001691',\n",
       "       'LP001692', 'LP001693', 'LP001698', 'LP001699', 'LP001702',\n",
       "       'LP001708', 'LP001711', 'LP001713', 'LP001715', 'LP001716',\n",
       "       'LP001720', 'LP001722', 'LP001726', 'LP001732', 'LP001734',\n",
       "       'LP001736', 'LP001743', 'LP001744', 'LP001749', 'LP001750',\n",
       "       'LP001751', 'LP001754', 'LP001758', 'LP001760', 'LP001761',\n",
       "       'LP001765', 'LP001768', 'LP001770', 'LP001776', 'LP001778',\n",
       "       'LP001784', 'LP001786', 'LP001788', 'LP001790', 'LP001792',\n",
       "       'LP001798', 'LP001800', 'LP001806', 'LP001807', 'LP001811',\n",
       "       'LP001813', 'LP001814', 'LP001819', 'LP001824', 'LP001825',\n",
       "       'LP001835', 'LP001836', 'LP001841', 'LP001843', 'LP001844',\n",
       "       'LP001846', 'LP001849', 'LP001854', 'LP001859', 'LP001864',\n",
       "       'LP001865', 'LP001868', 'LP001870', 'LP001871', 'LP001872',\n",
       "       'LP001875', 'LP001877', 'LP001882', 'LP001883', 'LP001884',\n",
       "       'LP001888', 'LP001891', 'LP001892', 'LP001894', 'LP001896',\n",
       "       'LP001900', 'LP001903', 'LP001904', 'LP001907', 'LP001908',\n",
       "       'LP001910', 'LP001914', 'LP001915', 'LP001917', 'LP001922',\n",
       "       'LP001924', 'LP001925', 'LP001926', 'LP001931', 'LP001935',\n",
       "       'LP001936', 'LP001938', 'LP001940', 'LP001945', 'LP001947',\n",
       "       'LP001949', 'LP001953', 'LP001954', 'LP001955', 'LP001963',\n",
       "       'LP001964', 'LP001972', 'LP001974', 'LP001977', 'LP001978',\n",
       "       'LP001990', 'LP001993', 'LP001994', 'LP001996', 'LP001998',\n",
       "       'LP002002', 'LP002004', 'LP002006', 'LP002008', 'LP002024',\n",
       "       'LP002031', 'LP002035', 'LP002036', 'LP002043', 'LP002050',\n",
       "       'LP002051', 'LP002053', 'LP002054', 'LP002055', 'LP002065',\n",
       "       'LP002067', 'LP002068', 'LP002082', 'LP002086', 'LP002087',\n",
       "       'LP002097', 'LP002098', 'LP002100', 'LP002101', 'LP002103',\n",
       "       'LP002106', 'LP002110', 'LP002112', 'LP002113', 'LP002114',\n",
       "       'LP002115', 'LP002116', 'LP002119', 'LP002126', 'LP002128',\n",
       "       'LP002129', 'LP002130', 'LP002131', 'LP002137', 'LP002138',\n",
       "       'LP002139', 'LP002140', 'LP002141', 'LP002142', 'LP002143',\n",
       "       'LP002144', 'LP002149', 'LP002151', 'LP002158', 'LP002160',\n",
       "       'LP002161', 'LP002170', 'LP002175', 'LP002178', 'LP002180',\n",
       "       'LP002181', 'LP002187', 'LP002188', 'LP002190', 'LP002191',\n",
       "       'LP002194', 'LP002197', 'LP002201', 'LP002205', 'LP002209',\n",
       "       'LP002211', 'LP002219', 'LP002223', 'LP002224', 'LP002225',\n",
       "       'LP002226', 'LP002229', 'LP002231', 'LP002234', 'LP002236',\n",
       "       'LP002237', 'LP002239', 'LP002243', 'LP002244', 'LP002250',\n",
       "       'LP002255', 'LP002262', 'LP002263', 'LP002265', 'LP002266',\n",
       "       'LP002272', 'LP002277', 'LP002281', 'LP002284', 'LP002287',\n",
       "       'LP002288', 'LP002296', 'LP002297', 'LP002300', 'LP002301',\n",
       "       'LP002305', 'LP002308', 'LP002314', 'LP002315', 'LP002317',\n",
       "       'LP002318', 'LP002319', 'LP002328', 'LP002332', 'LP002335',\n",
       "       'LP002337', 'LP002341', 'LP002342', 'LP002345', 'LP002347',\n",
       "       'LP002348', 'LP002357', 'LP002361', 'LP002362', 'LP002364',\n",
       "       'LP002366', 'LP002367', 'LP002368', 'LP002369', 'LP002370',\n",
       "       'LP002377', 'LP002379', 'LP002386', 'LP002387', 'LP002390',\n",
       "       'LP002393', 'LP002398', 'LP002401', 'LP002403', 'LP002407',\n",
       "       'LP002408', 'LP002409', 'LP002418', 'LP002422', 'LP002424',\n",
       "       'LP002429', 'LP002434', 'LP002435', 'LP002443', 'LP002444',\n",
       "       'LP002446', 'LP002447', 'LP002448', 'LP002449', 'LP002453',\n",
       "       'LP002455', 'LP002459', 'LP002467', 'LP002472', 'LP002473',\n",
       "       'LP002478', 'LP002484', 'LP002487', 'LP002489', 'LP002493',\n",
       "       'LP002494', 'LP002500', 'LP002501', 'LP002502', 'LP002505',\n",
       "       'LP002515', 'LP002517', 'LP002519', 'LP002522', 'LP002524',\n",
       "       'LP002527', 'LP002529', 'LP002530', 'LP002531', 'LP002533',\n",
       "       'LP002534', 'LP002536', 'LP002537', 'LP002541', 'LP002543',\n",
       "       'LP002544', 'LP002545', 'LP002547', 'LP002555', 'LP002556',\n",
       "       'LP002560', 'LP002562', 'LP002571', 'LP002582', 'LP002585',\n",
       "       'LP002586', 'LP002587', 'LP002588', 'LP002600', 'LP002602',\n",
       "       'LP002603', 'LP002606', 'LP002615', 'LP002618', 'LP002619',\n",
       "       'LP002622', 'LP002624', 'LP002625', 'LP002626', 'LP002634',\n",
       "       'LP002637', 'LP002640', 'LP002643', 'LP002648', 'LP002652',\n",
       "       'LP002659', 'LP002670', 'LP002682', 'LP002683', 'LP002684',\n",
       "       'LP002689', 'LP002690', 'LP002692', 'LP002693', 'LP002697',\n",
       "       'LP002699', 'LP002705', 'LP002706', 'LP002714', 'LP002716',\n",
       "       'LP002717', 'LP002720', 'LP002723', 'LP002729', 'LP002731',\n",
       "       'LP002732', 'LP002734', 'LP002738', 'LP002739', 'LP002740',\n",
       "       'LP002741', 'LP002743', 'LP002753', 'LP002755', 'LP002757',\n",
       "       'LP002767', 'LP002768', 'LP002772', 'LP002776', 'LP002777',\n",
       "       'LP002778', 'LP002784', 'LP002785', 'LP002788', 'LP002789',\n",
       "       'LP002792', 'LP002794', 'LP002795', 'LP002798', 'LP002804',\n",
       "       'LP002807', 'LP002813', 'LP002820', 'LP002821', 'LP002832',\n",
       "       'LP002833', 'LP002836', 'LP002837', 'LP002840', 'LP002841',\n",
       "       'LP002842', 'LP002847', 'LP002855', 'LP002862', 'LP002863',\n",
       "       'LP002868', 'LP002872', 'LP002874', 'LP002877', 'LP002888',\n",
       "       'LP002892', 'LP002893', 'LP002894', 'LP002898', 'LP002911',\n",
       "       'LP002912', 'LP002916', 'LP002917', 'LP002925', 'LP002926',\n",
       "       'LP002928', 'LP002931', 'LP002933', 'LP002936', 'LP002938',\n",
       "       'LP002940', 'LP002941', 'LP002943', 'LP002945', 'LP002948',\n",
       "       'LP002949', 'LP002950', 'LP002953', 'LP002958', 'LP002959',\n",
       "       'LP002960', 'LP002961', 'LP002964', 'LP002974', 'LP002978',\n",
       "       'LP002979', 'LP002983', 'LP002984', 'LP002990'], dtype=object)"
      ]
     },
     "execution_count": 352,
     "metadata": {},
     "output_type": "execute_result"
    }
   ],
   "source": [
    "\n",
    "df[\"Loan_ID\"].unique()\n",
    "\n",
    "\n"
   ]
  },
  {
   "cell_type": "code",
   "execution_count": 353,
   "id": "008995fd",
   "metadata": {},
   "outputs": [
    {
     "name": "stdout",
     "output_type": "stream",
     "text": [
      "614\n",
      "614\n"
     ]
    }
   ],
   "source": [
    "print(len(df[\"Loan_ID\"].unique()))\n",
    "#or \n",
    "print(df[\"Loan_ID\"].nunique())\n"
   ]
  },
  {
   "cell_type": "markdown",
   "id": "696c528d",
   "metadata": {},
   "source": [
    "observation:but it is really every row is unique or not\n",
    "hence it is proof it is primary keys"
   ]
  },
  {
   "cell_type": "code",
   "execution_count": 354,
   "id": "f0a5b40b",
   "metadata": {},
   "outputs": [
    {
     "data": {
      "text/plain": [
       "array(['Male', 'Female', nan], dtype=object)"
      ]
     },
     "execution_count": 354,
     "metadata": {},
     "output_type": "execute_result"
    }
   ],
   "source": [
    "df[\"Gender\"].unique()"
   ]
  },
  {
   "cell_type": "markdown",
   "id": "1dcd1bc1",
   "metadata": {},
   "source": [
    "Observation: in gender column consist some male ,some female and some missing vlaue"
   ]
  },
  {
   "cell_type": "code",
   "execution_count": 355,
   "id": "d1651b13",
   "metadata": {},
   "outputs": [
    {
     "data": {
      "text/plain": [
       "array(['No', 'Yes', nan], dtype=object)"
      ]
     },
     "execution_count": 355,
     "metadata": {},
     "output_type": "execute_result"
    }
   ],
   "source": [
    "df[\"Married\"].unique()"
   ]
  },
  {
   "cell_type": "code",
   "execution_count": 356,
   "id": "3e80997d",
   "metadata": {},
   "outputs": [
    {
     "data": {
      "text/plain": [
       "array(['0', '1', '2', '3+', nan], dtype=object)"
      ]
     },
     "execution_count": 356,
     "metadata": {},
     "output_type": "execute_result"
    }
   ],
   "source": [
    "df[\"Dependents\"].unique()"
   ]
  },
  {
   "cell_type": "markdown",
   "id": "3d9642fd",
   "metadata": {},
   "source": [
    "Observation: in dependent column their is wrong data avilable (3+) and along wrong datatype avilable string"
   ]
  },
  {
   "cell_type": "code",
   "execution_count": 357,
   "id": "e8026dc8",
   "metadata": {},
   "outputs": [
    {
     "data": {
      "text/plain": [
       "array(['Graduate', 'Not Graduate'], dtype=object)"
      ]
     },
     "execution_count": 357,
     "metadata": {},
     "output_type": "execute_result"
    }
   ],
   "source": [
    "df[\"Education\"].unique()"
   ]
  },
  {
   "cell_type": "code",
   "execution_count": 358,
   "id": "76d299fe",
   "metadata": {},
   "outputs": [
    {
     "data": {
      "text/plain": [
       "array(['No', 'Yes', nan], dtype=object)"
      ]
     },
     "execution_count": 358,
     "metadata": {},
     "output_type": "execute_result"
    }
   ],
   "source": [
    "df[\"Self_Employed\"].unique()"
   ]
  },
  {
   "cell_type": "code",
   "execution_count": 359,
   "id": "d1676d56",
   "metadata": {},
   "outputs": [
    {
     "name": "stdout",
     "output_type": "stream",
     "text": [
      "[ 5849  4583  3000  2583  6000  5417  2333  3036  4006 12841  3200  2500\n",
      "  3073  1853  1299  4950  3596  3510  4887  2600  7660  5955  3365  3717\n",
      "  9560  2799  4226  1442  3750  4166  3167  4692  3500 12500  2275  1828\n",
      "  3667  3748  3600  1800  2400  3941  4695  3410  5649  5821  2645  4000\n",
      "  1928  3086  4230  4616 11500  2708  2132  3366  8080  3357  3029  2609\n",
      "  4945  5726 10750  7100  4300  3208  1875  4755  5266  1000  3333  3846\n",
      "  2395  1378  3988  2366  8566  5695  2958  6250  3273  4133  3620  6782\n",
      "  2484  1977  4188  1759  4288  4843 13650  4652  3816  3052 11417  7333\n",
      "  3800  2071  5316  2929  3572  7451  5050 14583  2214  5568 10408  5667\n",
      "  2137  2957  3692 23803  3865 10513  6080 20166  2014  2718  3459  4895\n",
      "  3316 14999  4200  5042  6950  2698 11757  2330 14866  1538 10000  4860\n",
      "  6277  2577  9166  2281  3254 39999  9538  2980  1863  7933  3089  4167\n",
      "  9323  3707  2439  2237  8000  1820 51763  3522  5708  4344  3497  2045\n",
      "  5516  6400  1916  4600 33846  3625 39147  2178  2383   674  9328  4885\n",
      " 12000  6033  3858  4191  3125  8333  1907  3416 11000  4923  3992  3917\n",
      "  4408  3244  3975  2479  3418  3430  7787  5703  3173  3850   150  3727\n",
      "  5000  4283  2221  4009  2971  7578  3250  4735  4758  2491  3716  3189\n",
      "  3155  5500  5746  3463  3812  3315  5819  2510  2965  3406  6050  9703\n",
      "  6608  2882  1809  1668  3427  2661 16250  3083  6045  5250 14683  4931\n",
      "  6083  2060  3481  7200  5166  4095  4708  4333  2876  3237 11146  2833\n",
      "  2620  3900  2750  3993  3103  4100  4053  3927  2301  1811 20667  3158\n",
      "  3704  4124  9508  3075  4400  3153  4416  6875  4666  2875  1625  2000\n",
      "  3762 20233  7667  2917  2927  2507  2473  3399  2058  3541  4342  3601\n",
      "  3166 15000  8666  4917  5818  4384  2935 63337  9833  5503  1830  4160\n",
      "  2647  2378  4554  2499  3523  6333  2625  9083  8750  2666  2423  3813\n",
      "  3875  5167  4723  4750  3013  6822  6216  5124  6325 19730 15759  5185\n",
      "  3062  2764  4817  4310  3069  5391  5941  7167  4566  2346  3010  5488\n",
      "  9167  9504  1993  3100  3276  3180  3033  3902  1500  2889  2755  1963\n",
      "  7441  4547  2167  2213  8300 81000  3867  6256  6096  2253  2149  2995\n",
      "  1600  1025  3246  5829  2720  7250 14880  4606  5935  2920  2717  8624\n",
      "  6500 12876  2425 10047  1926 10416  7142  3660  7901  4707 37719  3466\n",
      "  3539  3340  2769  2309  1958  3948  2483  7085  3859  4301  3708  4354\n",
      "  8334  2083  7740  3015  5191  2947 16692   210  3450  2653  4691  5532\n",
      " 16525  6700  2873 16667  4350  3095 10833  3547 18333  2435  2699  5333\n",
      "  3691 17263  3597  3326  4625  2895  6283   645  3159  4865  4050  3814\n",
      " 20833  3583 13262  3598  6065  3283  2130  5815  2031  3074  4683  3400\n",
      "  2192  5677  7948  4680 17500  3775  5285  2679  6783  4281  3588 11250\n",
      " 18165  2550  6133  3617  6417  4608  2138  3652  2239  3017  2768  3358\n",
      "  2526  2785  6633  2492  2454  3593  5468  2667 10139  3887  4180  3675\n",
      " 19484  5923  5800  8799  4467  3417  5116 16666  6125  6406  3087  3229\n",
      "  1782  3182  6540  1836  1880  2787  2297  2165  2726  9357 16120  3833\n",
      "  6383  2987  9963  5780   416  2894  3676  3987  3232  2900  4106  8072\n",
      "  7583]\n",
      "505\n"
     ]
    },
    {
     "data": {
      "text/plain": [
       "np.int64(0)"
      ]
     },
     "execution_count": 359,
     "metadata": {},
     "output_type": "execute_result"
    }
   ],
   "source": [
    "print(df[\"ApplicantIncome\"].unique())\n",
    "#and \n",
    "print(len(df[\"ApplicantIncome\"].unique()))\n",
    "#and \n",
    "df[\"ApplicantIncome\"].isnull().sum()"
   ]
  },
  {
   "cell_type": "code",
   "execution_count": 360,
   "id": "3554c60e",
   "metadata": {},
   "outputs": [
    {
     "name": "stdout",
     "output_type": "stream",
     "text": [
      "614\n"
     ]
    }
   ],
   "source": [
    "# i have to check wheter all value is int or not\n",
    "z=[]\n",
    "for i in df[\"ApplicantIncome\"].tolist():\n",
    "    if type(i) in [int]:\n",
    "        z.append(i)\n",
    "\n",
    "print(len(z))\n",
    "        \n",
    "\n"
   ]
  },
  {
   "cell_type": "markdown",
   "id": "35677c64",
   "metadata": {},
   "source": [
    "observation:all value is int , no missing vlaue is thier"
   ]
  },
  {
   "cell_type": "code",
   "execution_count": 361,
   "id": "c29574bb",
   "metadata": {},
   "outputs": [
    {
     "name": "stdout",
     "output_type": "stream",
     "text": [
      "0         0.0\n",
      "1      1508.0\n",
      "2         0.0\n",
      "3      2358.0\n",
      "4         0.0\n",
      "        ...  \n",
      "609       0.0\n",
      "610       0.0\n",
      "611     240.0\n",
      "612       0.0\n",
      "613       0.0\n",
      "Name: CoapplicantIncome, Length: 614, dtype: float64\n",
      "0\n"
     ]
    }
   ],
   "source": [
    "df[\"CoapplicantIncome\"].unique()\n",
    "#here we get vlaue e power  and i dont want e powe\n",
    "df[\"CoapplicantIncome\"]=df[\"CoapplicantIncome\"].astype(float)\n",
    "\n",
    "print(df[\"CoapplicantIncome\"])\n",
    "\n",
    "#and check wheter it contain str or not\n",
    "z=[]\n",
    "for i in df[\"CoapplicantIncome\"].tolist():\n",
    "    if type(i) is [str]:\n",
    "        z.append(i)\n",
    "print(len(z))        \n",
    "\n",
    "\n"
   ]
  },
  {
   "cell_type": "markdown",
   "id": "709c9f69",
   "metadata": {},
   "source": [
    "observation zero string  value contain"
   ]
  },
  {
   "cell_type": "code",
   "execution_count": 362,
   "id": "e77a82b9",
   "metadata": {},
   "outputs": [
    {
     "name": "stdout",
     "output_type": "stream",
     "text": [
      "[ nan 128.  66. 120. 141. 267.  95. 158. 168. 349.  70. 109. 200. 114.\n",
      "  17. 125. 100.  76. 133. 115. 104. 315. 116. 112. 151. 191. 122. 110.\n",
      "  35. 201.  74. 106. 320. 144. 184.  80.  47.  75. 134.  96.  88.  44.\n",
      " 286.  97. 135. 180.  99. 165. 258. 126. 312. 136. 172.  81. 187. 113.\n",
      " 176. 130. 111. 167. 265.  50. 210. 175. 131. 188.  25. 137. 160. 225.\n",
      " 216.  94. 139. 152. 118. 185. 154.  85. 259. 194.  93. 370. 182. 650.\n",
      " 102. 290.  84. 242. 129.  30. 244. 600. 255.  98. 275. 121.  63. 700.\n",
      "  87. 101. 495.  67.  73. 260. 108.  58.  48. 164. 170.  83.  90. 166.\n",
      " 124.  55.  59. 127. 214. 240.  72.  60. 138.  42. 280. 140. 155. 123.\n",
      " 279. 192. 304. 330. 150. 207. 436.  78.  54.  89. 143. 105. 132. 480.\n",
      "  56. 159. 300. 376. 117.  71. 490. 173.  46. 228. 308. 236. 570. 380.\n",
      " 296. 156. 103.  45.  65.  53. 360.  62. 218. 178. 239. 405. 148. 190.\n",
      " 149. 153. 162. 230.  86. 234. 246. 500. 186. 119. 107. 209. 208. 243.\n",
      "  40. 250. 311. 400. 161. 196. 324. 157. 145. 181.  26. 211.   9. 205.\n",
      "  36.  61. 146. 292. 142. 350. 496. 253.]\n",
      "22\n"
     ]
    }
   ],
   "source": [
    "print(df[\"LoanAmount\"].unique())\n",
    "# as we see decimal value but diffent point u have to observe that after dot there is no vlaue in each record why whenver one nan or more nan is exit it convert into dot value\n",
    "#is their any missing value exit or not if exit  check first how much missing value exist\n",
    "\n",
    "print(df[\"LoanAmount\"].isnull().sum())\n",
    "\n"
   ]
  },
  {
   "cell_type": "code",
   "execution_count": 363,
   "id": "6d3e3a24",
   "metadata": {},
   "outputs": [
    {
     "name": "stdout",
     "output_type": "stream",
     "text": [
      "[360. 120. 240.  nan 180.  60. 300. 480.  36.  84.  12.]\n",
      "14\n"
     ]
    }
   ],
   "source": [
    "print(df[\"Loan_Amount_Term\"].unique())\n",
    "print(df[\"Loan_Amount_Term\"].isnull().sum())\n",
    "\n",
    "# yeah pe tum soach rahe hoge ki for loop lagau taki auger koi value string nikli ya int to mill jayegi wrong dont do why kuki etna kam out put aya jo ki aram se dekh ke anyalise kr sakte hai vo etna bada output nahi hai niche dekh output\n",
    "# some miising value ke vajese month flaot aya tum esko chaho to convert into int bhi sakte ho"
   ]
  },
  {
   "cell_type": "markdown",
   "id": "8dc847d1",
   "metadata": {},
   "source": [
    ">observation1:in loan amount term column we get float datatype and 14 missing value "
   ]
  },
  {
   "cell_type": "code",
   "execution_count": 364,
   "id": "fa03a14e",
   "metadata": {},
   "outputs": [
    {
     "name": "stdout",
     "output_type": "stream",
     "text": [
      "[ 1.  0. nan]\n",
      "50\n",
      "Credit_History\n",
      "1.0    475\n",
      "0.0     89\n",
      "Name: count, dtype: int64\n"
     ]
    }
   ],
   "source": [
    "print(df[\"Credit_History\"].unique())\n",
    "print(df[\"Credit_History\"].isnull().sum())\n",
    "print(df[\"Credit_History\"].value_counts())\n",
    "\n"
   ]
  },
  {
   "cell_type": "markdown",
   "id": "fae5545d",
   "metadata": {},
   "source": [
    "observation1: in credit history colum 3 unique data we got and 50 missing vlaue is their\n",
    "observation2:1 means good credit history we get 475 record good histry and 89 recods are bad"
   ]
  },
  {
   "cell_type": "code",
   "execution_count": 365,
   "id": "45af49ea",
   "metadata": {},
   "outputs": [
    {
     "data": {
      "text/plain": [
       "array(['Good', 'Bad', nan], dtype=object)"
      ]
     },
     "execution_count": 365,
     "metadata": {},
     "output_type": "execute_result"
    }
   ],
   "source": [
    "#so we replace that catogical varible to create more clarity to me\n",
    "df[\"Credit_History\"]=df[\"Credit_History\"].replace({1:\"Good\",0:\"Bad\"})\n",
    "df[\"Credit_History\"].unique()\n"
   ]
  },
  {
   "cell_type": "code",
   "execution_count": 366,
   "id": "795ca203",
   "metadata": {},
   "outputs": [
    {
     "name": "stdout",
     "output_type": "stream",
     "text": [
      "['Y' 'N']\n"
     ]
    },
    {
     "data": {
      "text/plain": [
       "Loan_Status\n",
       "Y    422\n",
       "N    192\n",
       "Name: count, dtype: int64"
      ]
     },
     "execution_count": 366,
     "metadata": {},
     "output_type": "execute_result"
    }
   ],
   "source": [
    "print(df[\"Loan_Status\"].unique())\n",
    "df[\"Loan_Status\"].value_counts()\n",
    "#df[\"Loan_Status\"].isnull().sum()\n"
   ]
  },
  {
   "cell_type": "markdown",
   "id": "b4a7bdc7",
   "metadata": {},
   "source": [
    "observation: in loan status column hai 422 peopele is eligble and and 192 is not eligible  and no missing value is thier"
   ]
  },
  {
   "cell_type": "code",
   "execution_count": 367,
   "id": "f2a9246e",
   "metadata": {},
   "outputs": [
    {
     "data": {
      "text/plain": [
       "Loan_ID               object\n",
       "Gender                object\n",
       "Married               object\n",
       "Dependents            object\n",
       "Education             object\n",
       "Self_Employed         object\n",
       "ApplicantIncome        int64\n",
       "CoapplicantIncome    float64\n",
       "LoanAmount           float64\n",
       "Loan_Amount_Term     float64\n",
       "Credit_History        object\n",
       "Property_Area         object\n",
       "Loan_Status           object\n",
       "dtype: object"
      ]
     },
     "execution_count": 367,
     "metadata": {},
     "output_type": "execute_result"
    }
   ],
   "source": [
    "#after uniqe value and value count \n",
    "#we do datatype\n",
    "df.dtypes"
   ]
  },
  {
   "cell_type": "markdown",
   "id": "5e00920c",
   "metadata": {},
   "source": [
    "-dependent wrong data type\n",
    "-dependents have wrong datatype due to wrong  value (3+)\n",
    "-loan amount have wrong dataype due to missing vlaue\n",
    "-loan amount term have wrong dataype due to missing value"
   ]
  },
  {
   "cell_type": "code",
   "execution_count": 368,
   "id": "f13c9029",
   "metadata": {},
   "outputs": [
    {
     "data": {
      "text/plain": [
       "Loan_ID               0\n",
       "Gender               13\n",
       "Married               3\n",
       "Dependents           15\n",
       "Education             0\n",
       "Self_Employed        32\n",
       "ApplicantIncome       0\n",
       "CoapplicantIncome     0\n",
       "LoanAmount           22\n",
       "Loan_Amount_Term     14\n",
       "Credit_History       50\n",
       "Property_Area         0\n",
       "Loan_Status           0\n",
       "dtype: int64"
      ]
     },
     "execution_count": 368,
     "metadata": {},
     "output_type": "execute_result"
    }
   ],
   "source": [
    "#we do now check missing vlaue\n",
    "df.isnull().sum()"
   ]
  },
  {
   "cell_type": "code",
   "execution_count": 369,
   "id": "58905dba",
   "metadata": {},
   "outputs": [
    {
     "name": "stdout",
     "output_type": "stream",
     "text": [
      "<class 'pandas.core.frame.DataFrame'>\n",
      "RangeIndex: 614 entries, 0 to 613\n",
      "Data columns (total 13 columns):\n",
      " #   Column             Non-Null Count  Dtype  \n",
      "---  ------             --------------  -----  \n",
      " 0   Loan_ID            614 non-null    object \n",
      " 1   Gender             601 non-null    object \n",
      " 2   Married            611 non-null    object \n",
      " 3   Dependents         599 non-null    object \n",
      " 4   Education          614 non-null    object \n",
      " 5   Self_Employed      582 non-null    object \n",
      " 6   ApplicantIncome    614 non-null    int64  \n",
      " 7   CoapplicantIncome  614 non-null    float64\n",
      " 8   LoanAmount         592 non-null    float64\n",
      " 9   Loan_Amount_Term   600 non-null    float64\n",
      " 10  Credit_History     564 non-null    object \n",
      " 11  Property_Area      614 non-null    object \n",
      " 12  Loan_Status        614 non-null    object \n",
      "dtypes: float64(3), int64(1), object(9)\n",
      "memory usage: 62.5+ KB\n"
     ]
    }
   ],
   "source": [
    "df.info()"
   ]
  },
  {
   "cell_type": "markdown",
   "id": "a90845f8",
   "metadata": {},
   "source": [
    "observation:wrong datatype dependent and loan amount term"
   ]
  },
  {
   "cell_type": "markdown",
   "id": "8ee19728",
   "metadata": {},
   "source": [
    "<h4>now we seprate which is contnous ,discreate ,categoraical like that we make list ahere</h4>\n",
    "<h4>and sahi krna sepeate common sense ke sath nahi to table dekha df.info vesa lih diya direact </h4>"
   ]
  },
  {
   "cell_type": "code",
   "execution_count": 370,
   "id": "909aab42",
   "metadata": {},
   "outputs": [],
   "source": [
    "continous=['ApplicantIncome', 'CoapplicantIncome','LoanAmount']\n",
    "categorical=['Loan_ID', 'Gender','Married','Education','Self_Employed','Credit_History','Property_Area', 'Loan_Status']\n",
    "count=[\"Dependents\",\"Loan_Amount_Term\"]"
   ]
  },
  {
   "cell_type": "code",
   "execution_count": 371,
   "id": "bfda9a7a",
   "metadata": {},
   "outputs": [
    {
     "name": "stdout",
     "output_type": "stream",
     "text": [
      "['ApplicantIncome', 'CoapplicantIncome', 'LoanAmount']\n"
     ]
    },
    {
     "data": {
      "text/html": [
       "<div>\n",
       "<style scoped>\n",
       "    .dataframe tbody tr th:only-of-type {\n",
       "        vertical-align: middle;\n",
       "    }\n",
       "\n",
       "    .dataframe tbody tr th {\n",
       "        vertical-align: top;\n",
       "    }\n",
       "\n",
       "    .dataframe thead th {\n",
       "        text-align: right;\n",
       "    }\n",
       "</style>\n",
       "<table border=\"1\" class=\"dataframe\">\n",
       "  <thead>\n",
       "    <tr style=\"text-align: right;\">\n",
       "      <th></th>\n",
       "      <th>ApplicantIncome</th>\n",
       "      <th>CoapplicantIncome</th>\n",
       "      <th>LoanAmount</th>\n",
       "    </tr>\n",
       "  </thead>\n",
       "  <tbody>\n",
       "    <tr>\n",
       "      <th>count</th>\n",
       "      <td>614.000000</td>\n",
       "      <td>614.000000</td>\n",
       "      <td>592.000000</td>\n",
       "    </tr>\n",
       "    <tr>\n",
       "      <th>mean</th>\n",
       "      <td>5403.459283</td>\n",
       "      <td>1621.245798</td>\n",
       "      <td>146.412162</td>\n",
       "    </tr>\n",
       "    <tr>\n",
       "      <th>std</th>\n",
       "      <td>6109.041673</td>\n",
       "      <td>2926.248369</td>\n",
       "      <td>85.587325</td>\n",
       "    </tr>\n",
       "    <tr>\n",
       "      <th>min</th>\n",
       "      <td>150.000000</td>\n",
       "      <td>0.000000</td>\n",
       "      <td>9.000000</td>\n",
       "    </tr>\n",
       "    <tr>\n",
       "      <th>25%</th>\n",
       "      <td>2877.500000</td>\n",
       "      <td>0.000000</td>\n",
       "      <td>100.000000</td>\n",
       "    </tr>\n",
       "    <tr>\n",
       "      <th>50%</th>\n",
       "      <td>3812.500000</td>\n",
       "      <td>1188.500000</td>\n",
       "      <td>128.000000</td>\n",
       "    </tr>\n",
       "    <tr>\n",
       "      <th>75%</th>\n",
       "      <td>5795.000000</td>\n",
       "      <td>2297.250000</td>\n",
       "      <td>168.000000</td>\n",
       "    </tr>\n",
       "    <tr>\n",
       "      <th>max</th>\n",
       "      <td>81000.000000</td>\n",
       "      <td>41667.000000</td>\n",
       "      <td>700.000000</td>\n",
       "    </tr>\n",
       "  </tbody>\n",
       "</table>\n",
       "</div>"
      ],
      "text/plain": [
       "       ApplicantIncome  CoapplicantIncome  LoanAmount\n",
       "count       614.000000         614.000000  592.000000\n",
       "mean       5403.459283        1621.245798  146.412162\n",
       "std        6109.041673        2926.248369   85.587325\n",
       "min         150.000000           0.000000    9.000000\n",
       "25%        2877.500000           0.000000  100.000000\n",
       "50%        3812.500000        1188.500000  128.000000\n",
       "75%        5795.000000        2297.250000  168.000000\n",
       "max       81000.000000       41667.000000  700.000000"
      ]
     },
     "execution_count": 371,
     "metadata": {},
     "output_type": "execute_result"
    }
   ],
   "source": [
    "#df[['ApplicantIncome', 'CoapplicantIncome', 'LoanAmount']].describe()\n",
    "#or\n",
    "print(continous)\n",
    "df[continous].describe()\n",
    "#yeah pe mene  har chich dekh li hai"
   ]
  },
  {
   "cell_type": "markdown",
   "id": "6cff91ea",
   "metadata": {},
   "source": [
    "observation:all three contain outlier not normaly distributed  becuse mean is not eqal medain\n",
    "\n",
    "OBSERVATION  APPLICANTINCOME:MEAN =5403.45 ,MIN=150,MAX=81000\n",
    "\n",
    "OBSERVATION  COAPPLICANTINCOME:MEAN =1621.245 ,MIN=0,MAX=41667 (  incoapplicant income min=0 means min zero people start )\n",
    "\n",
    "OBSERVATION  APPLICANTINCOME:MEAN =146.41 ,MIN=9,MAX=700\n"
   ]
  },
  {
   "cell_type": "code",
   "execution_count": 372,
   "id": "f9ad32fb",
   "metadata": {},
   "outputs": [
    {
     "data": {
      "image/png": "[encoded data removed]",
      "text/plain": [
       "<Figure size 640x480 with 1 Axes>"
      ]
     },
     "metadata": {},
     "output_type": "display_data"
    },
    {
     "data": {
      "image/png": "[encoded data removed]",
      "text/plain": [
       "<Figure size 640x480 with 1 Axes>"
      ]
     },
     "metadata": {},
     "output_type": "display_data"
    },
    {
     "data": {
      "image/png": "[encoded data removed]",
      "text/plain": [
       "<Figure size 640x480 with 1 Axes>"
      ]
     },
     "metadata": {},
     "output_type": "display_data"
    }
   ],
   "source": [
    "for i in continous:\n",
    " sns.histplot(df[i],kde=\"True\")\n",
    " plt.show()"
   ]
  },
  {
   "cell_type": "markdown",
   "id": "fde01d80",
   "metadata": {},
   "source": [
    "applicant income ,co apllicant income,loan amount all three are right tail  mean their few data which show upper outliers ,becuase kuch tino me esa data hai jiske vajese right side kicha jaa rha hai tu insure that i am right or wrong"
   ]
  },
  {
   "cell_type": "code",
   "execution_count": 373,
   "id": "a7d3b1ff",
   "metadata": {},
   "outputs": [
    {
     "data": {
      "image/png": "[encoded data removed]",
      "text/plain": [
       "<Figure size 1000x600 with 1 Axes>"
      ]
     },
     "metadata": {},
     "output_type": "display_data"
    }
   ],
   "source": [
    "plt.figure(figsize=(10,6))\n",
    "sns.boxplot(data=df[continous])\n",
    "plt.legend(continous)\n",
    "plt.show()\n"
   ]
  },
  {
   "cell_type": "markdown",
   "id": "abd01212",
   "metadata": {},
   "source": [
    "observation as we all three contnoius are contain outlier positve"
   ]
  },
  {
   "cell_type": "code",
   "execution_count": 374,
   "id": "28babc39",
   "metadata": {},
   "outputs": [
    {
     "data": {
      "text/plain": [
       "ApplicantIncome      6.539513\n",
       "CoapplicantIncome    7.491531\n",
       "LoanAmount           2.677552\n",
       "dtype: float64"
      ]
     },
     "execution_count": 374,
     "metadata": {},
     "output_type": "execute_result"
    }
   ],
   "source": [
    "df[continous].skew()"
   ]
  },
  {
   "cell_type": "markdown",
   "id": "41eb7c40",
   "metadata": {},
   "source": [
    "as we see also all three  skew greater then 1 means all are +ve skew"
   ]
  },
  {
   "cell_type": "code",
   "execution_count": 375,
   "id": "2f60a8db",
   "metadata": {},
   "outputs": [
    {
     "data": {
      "text/html": [
       "<div>\n",
       "<style scoped>\n",
       "    .dataframe tbody tr th:only-of-type {\n",
       "        vertical-align: middle;\n",
       "    }\n",
       "\n",
       "    .dataframe tbody tr th {\n",
       "        vertical-align: top;\n",
       "    }\n",
       "\n",
       "    .dataframe thead th {\n",
       "        text-align: right;\n",
       "    }\n",
       "</style>\n",
       "<table border=\"1\" class=\"dataframe\">\n",
       "  <thead>\n",
       "    <tr style=\"text-align: right;\">\n",
       "      <th></th>\n",
       "      <th>Loan_ID</th>\n",
       "      <th>Gender</th>\n",
       "      <th>Married</th>\n",
       "      <th>Education</th>\n",
       "      <th>Self_Employed</th>\n",
       "      <th>Credit_History</th>\n",
       "      <th>Property_Area</th>\n",
       "      <th>Loan_Status</th>\n",
       "    </tr>\n",
       "  </thead>\n",
       "  <tbody>\n",
       "    <tr>\n",
       "      <th>count</th>\n",
       "      <td>614</td>\n",
       "      <td>601</td>\n",
       "      <td>611</td>\n",
       "      <td>614</td>\n",
       "      <td>582</td>\n",
       "      <td>564</td>\n",
       "      <td>614</td>\n",
       "      <td>614</td>\n",
       "    </tr>\n",
       "    <tr>\n",
       "      <th>unique</th>\n",
       "      <td>614</td>\n",
       "      <td>2</td>\n",
       "      <td>2</td>\n",
       "      <td>2</td>\n",
       "      <td>2</td>\n",
       "      <td>2</td>\n",
       "      <td>3</td>\n",
       "      <td>2</td>\n",
       "    </tr>\n",
       "    <tr>\n",
       "      <th>top</th>\n",
       "      <td>LP001002</td>\n",
       "      <td>Male</td>\n",
       "      <td>Yes</td>\n",
       "      <td>Graduate</td>\n",
       "      <td>No</td>\n",
       "      <td>Good</td>\n",
       "      <td>Semiurban</td>\n",
       "      <td>Y</td>\n",
       "    </tr>\n",
       "    <tr>\n",
       "      <th>freq</th>\n",
       "      <td>1</td>\n",
       "      <td>489</td>\n",
       "      <td>398</td>\n",
       "      <td>480</td>\n",
       "      <td>500</td>\n",
       "      <td>475</td>\n",
       "      <td>233</td>\n",
       "      <td>422</td>\n",
       "    </tr>\n",
       "  </tbody>\n",
       "</table>\n",
       "</div>"
      ],
      "text/plain": [
       "         Loan_ID Gender Married Education Self_Employed Credit_History  \\\n",
       "count        614    601     611       614           582            564   \n",
       "unique       614      2       2         2             2              2   \n",
       "top     LP001002   Male     Yes  Graduate            No           Good   \n",
       "freq           1    489     398       480           500            475   \n",
       "\n",
       "       Property_Area Loan_Status  \n",
       "count            614         614  \n",
       "unique             3           2  \n",
       "top        Semiurban           Y  \n",
       "freq             233         422  "
      ]
     },
     "execution_count": 375,
     "metadata": {},
     "output_type": "execute_result"
    }
   ],
   "source": [
    "#now for categorical ke liy bhi\n",
    "df[categorical].describe()\n",
    "#top means mode ,freq means repeated hota hai\n"
   ]
  },
  {
   "cell_type": "markdown",
   "id": "4f2dae98",
   "metadata": {},
   "source": [
    "loanId: contain non repated value \n",
    "\n",
    "gender:mostlely reapeated value is male and 489 reapted\n",
    "\n",
    "married:maximum people marreid  and 398 time married people record is exits\n",
    "\n",
    "self_employed: 500 record people is not self employ\n",
    "\n",
    "credit_history:max 475  poeple credit_history is good \n",
    "\n",
    "property:mostly smiurban people is there total max 233 peple record is there\n",
    "\n",
    "loan_status:422 people is eligible to get loan"
   ]
  },
  {
   "cell_type": "code",
   "execution_count": 376,
   "id": "390e46de",
   "metadata": {},
   "outputs": [
    {
     "data": {
      "text/plain": [
       "np.int64(0)"
      ]
     },
     "execution_count": 376,
     "metadata": {},
     "output_type": "execute_result"
    }
   ],
   "source": [
    "df.duplicated().sum()"
   ]
  },
  {
   "cell_type": "markdown",
   "id": "fee6ca0d",
   "metadata": {},
   "source": [
    "observation:their is no dupliacated vlaue"
   ]
  },
  {
   "cell_type": "code",
   "execution_count": 377,
   "id": "a05c4213",
   "metadata": {},
   "outputs": [
    {
     "data": {
      "text/html": [
       "<div>\n",
       "<style scoped>\n",
       "    .dataframe tbody tr th:only-of-type {\n",
       "        vertical-align: middle;\n",
       "    }\n",
       "\n",
       "    .dataframe tbody tr th {\n",
       "        vertical-align: top;\n",
       "    }\n",
       "\n",
       "    .dataframe thead th {\n",
       "        text-align: right;\n",
       "    }\n",
       "</style>\n",
       "<table border=\"1\" class=\"dataframe\">\n",
       "  <thead>\n",
       "    <tr style=\"text-align: right;\">\n",
       "      <th></th>\n",
       "      <th>Loan_Amount_Term</th>\n",
       "    </tr>\n",
       "  </thead>\n",
       "  <tbody>\n",
       "    <tr>\n",
       "      <th>count</th>\n",
       "      <td>600.00000</td>\n",
       "    </tr>\n",
       "    <tr>\n",
       "      <th>mean</th>\n",
       "      <td>342.00000</td>\n",
       "    </tr>\n",
       "    <tr>\n",
       "      <th>std</th>\n",
       "      <td>65.12041</td>\n",
       "    </tr>\n",
       "    <tr>\n",
       "      <th>min</th>\n",
       "      <td>12.00000</td>\n",
       "    </tr>\n",
       "    <tr>\n",
       "      <th>25%</th>\n",
       "      <td>360.00000</td>\n",
       "    </tr>\n",
       "    <tr>\n",
       "      <th>50%</th>\n",
       "      <td>360.00000</td>\n",
       "    </tr>\n",
       "    <tr>\n",
       "      <th>75%</th>\n",
       "      <td>360.00000</td>\n",
       "    </tr>\n",
       "    <tr>\n",
       "      <th>max</th>\n",
       "      <td>480.00000</td>\n",
       "    </tr>\n",
       "  </tbody>\n",
       "</table>\n",
       "</div>"
      ],
      "text/plain": [
       "       Loan_Amount_Term\n",
       "count         600.00000\n",
       "mean          342.00000\n",
       "std            65.12041\n",
       "min            12.00000\n",
       "25%           360.00000\n",
       "50%           360.00000\n",
       "75%           360.00000\n",
       "max           480.00000"
      ]
     },
     "execution_count": 377,
     "metadata": {},
     "output_type": "execute_result"
    }
   ],
   "source": [
    "df[count].describe()"
   ]
  },
  {
   "cell_type": "markdown",
   "id": "c1d8a5e2",
   "metadata": {},
   "source": [
    "<h1>Tranform</h1>"
   ]
  },
  {
   "cell_type": "code",
   "execution_count": 378,
   "id": "433086f8",
   "metadata": {},
   "outputs": [],
   "source": [
    "df[\"Dependents\"] = df[\"Dependents\"].replace({\"3+\":3})"
   ]
  },
  {
   "cell_type": "code",
   "execution_count": 379,
   "id": "0fa9afff",
   "metadata": {},
   "outputs": [
    {
     "data": {
      "text/plain": [
       "Loan_ID               0\n",
       "Gender               13\n",
       "Married               3\n",
       "Dependents           15\n",
       "Education             0\n",
       "Self_Employed        32\n",
       "ApplicantIncome       0\n",
       "CoapplicantIncome     0\n",
       "LoanAmount           22\n",
       "Loan_Amount_Term     14\n",
       "Credit_History       50\n",
       "Property_Area         0\n",
       "Loan_Status           0\n",
       "dtype: int64"
      ]
     },
     "execution_count": 379,
     "metadata": {},
     "output_type": "execute_result"
    }
   ],
   "source": [
    "df.isnull().sum()"
   ]
  },
  {
   "cell_type": "code",
   "execution_count": 380,
   "id": "f6b17c69",
   "metadata": {},
   "outputs": [
    {
     "data": {
      "text/plain": [
       "Loan_ID              0\n",
       "Gender               0\n",
       "Married              0\n",
       "Dependents           0\n",
       "Education            0\n",
       "Self_Employed        0\n",
       "ApplicantIncome      0\n",
       "CoapplicantIncome    0\n",
       "LoanAmount           0\n",
       "Loan_Amount_Term     0\n",
       "Credit_History       0\n",
       "Property_Area        0\n",
       "Loan_Status          0\n",
       "dtype: int64"
      ]
     },
     "execution_count": 380,
     "metadata": {},
     "output_type": "execute_result"
    }
   ],
   "source": [
    "# now apply statisics on unimprant column which  is not related loan eligble stuatus\n",
    "#GNEDER\n",
    "df[\"Gender\"].mode()\n",
    "# male many time come \n",
    "df[\"Gender\"]=df[\"Gender\"].fillna(\"Male\")\n",
    "\n",
    "#Marriend thier is no sense if ur martial status is true affect on loan or not\n",
    "df[\"Married\"].mode()\n",
    "df[\"Married\"]=df[\"Married\"].fillna(\"yes\")\n",
    "#self employ  no relateion \n",
    "df[\"Self_Employed\"].mode()\n",
    "df[\"Self_Employed\"]=df[\"Self_Employed\"].fillna(\"No\")\n",
    "\n",
    "# jismme senese banta hai usko statiscs se resolve nhi kr sakte that why best is remove that  backend team ko share krna hoga \n",
    "\n",
    "\n",
    "df.dropna(axis=0,inplace=True)\n",
    "\n",
    "df.isnull().sum()"
   ]
  },
  {
   "cell_type": "markdown",
   "id": "10e0cce7",
   "metadata": {},
   "source": [
    "ALL MISSING TREATED VERY WELL"
   ]
  },
  {
   "cell_type": "code",
   "execution_count": 381,
   "id": "0a86fa53",
   "metadata": {},
   "outputs": [],
   "source": [
    "#drop duplicate\n",
    "df=df.drop_duplicates()\n",
    "#in duplicate their is one solution"
   ]
  },
  {
   "cell_type": "markdown",
   "id": "6fe1909a",
   "metadata": {},
   "source": [
    "transformation\n",
    "due to outliner we cant do discretization\n",
    "but we can do feture enginnering\n",
    "\n",
    "feture enginnering"
   ]
  },
  {
   "cell_type": "code",
   "execution_count": 382,
   "id": "bb874acc",
   "metadata": {},
   "outputs": [
    {
     "data": {
      "text/html": [
       "<div>\n",
       "<style scoped>\n",
       "    .dataframe tbody tr th:only-of-type {\n",
       "        vertical-align: middle;\n",
       "    }\n",
       "\n",
       "    .dataframe tbody tr th {\n",
       "        vertical-align: top;\n",
       "    }\n",
       "\n",
       "    .dataframe thead th {\n",
       "        text-align: right;\n",
       "    }\n",
       "</style>\n",
       "<table border=\"1\" class=\"dataframe\">\n",
       "  <thead>\n",
       "    <tr style=\"text-align: right;\">\n",
       "      <th></th>\n",
       "      <th>Loan_ID</th>\n",
       "      <th>Gender</th>\n",
       "      <th>Married</th>\n",
       "      <th>Dependents</th>\n",
       "      <th>Education</th>\n",
       "      <th>Self_Employed</th>\n",
       "      <th>ApplicantIncome</th>\n",
       "      <th>CoapplicantIncome</th>\n",
       "      <th>LoanAmount</th>\n",
       "      <th>Loan_Amount_Term</th>\n",
       "      <th>Credit_History</th>\n",
       "      <th>Property_Area</th>\n",
       "      <th>Loan_Status</th>\n",
       "      <th>overall_income</th>\n",
       "    </tr>\n",
       "  </thead>\n",
       "  <tbody>\n",
       "    <tr>\n",
       "      <th>1</th>\n",
       "      <td>LP001003</td>\n",
       "      <td>Male</td>\n",
       "      <td>Yes</td>\n",
       "      <td>1</td>\n",
       "      <td>Graduate</td>\n",
       "      <td>No</td>\n",
       "      <td>4583</td>\n",
       "      <td>1508.0</td>\n",
       "      <td>128.0</td>\n",
       "      <td>360.0</td>\n",
       "      <td>Good</td>\n",
       "      <td>Rural</td>\n",
       "      <td>N</td>\n",
       "      <td>6091.0</td>\n",
       "    </tr>\n",
       "    <tr>\n",
       "      <th>2</th>\n",
       "      <td>LP001005</td>\n",
       "      <td>Male</td>\n",
       "      <td>Yes</td>\n",
       "      <td>0</td>\n",
       "      <td>Graduate</td>\n",
       "      <td>Yes</td>\n",
       "      <td>3000</td>\n",
       "      <td>0.0</td>\n",
       "      <td>66.0</td>\n",
       "      <td>360.0</td>\n",
       "      <td>Good</td>\n",
       "      <td>Urban</td>\n",
       "      <td>Y</td>\n",
       "      <td>3000.0</td>\n",
       "    </tr>\n",
       "    <tr>\n",
       "      <th>3</th>\n",
       "      <td>LP001006</td>\n",
       "      <td>Male</td>\n",
       "      <td>Yes</td>\n",
       "      <td>0</td>\n",
       "      <td>Not Graduate</td>\n",
       "      <td>No</td>\n",
       "      <td>2583</td>\n",
       "      <td>2358.0</td>\n",
       "      <td>120.0</td>\n",
       "      <td>360.0</td>\n",
       "      <td>Good</td>\n",
       "      <td>Urban</td>\n",
       "      <td>Y</td>\n",
       "      <td>4941.0</td>\n",
       "    </tr>\n",
       "    <tr>\n",
       "      <th>4</th>\n",
       "      <td>LP001008</td>\n",
       "      <td>Male</td>\n",
       "      <td>No</td>\n",
       "      <td>0</td>\n",
       "      <td>Graduate</td>\n",
       "      <td>No</td>\n",
       "      <td>6000</td>\n",
       "      <td>0.0</td>\n",
       "      <td>141.0</td>\n",
       "      <td>360.0</td>\n",
       "      <td>Good</td>\n",
       "      <td>Urban</td>\n",
       "      <td>Y</td>\n",
       "      <td>6000.0</td>\n",
       "    </tr>\n",
       "    <tr>\n",
       "      <th>5</th>\n",
       "      <td>LP001011</td>\n",
       "      <td>Male</td>\n",
       "      <td>Yes</td>\n",
       "      <td>2</td>\n",
       "      <td>Graduate</td>\n",
       "      <td>Yes</td>\n",
       "      <td>5417</td>\n",
       "      <td>4196.0</td>\n",
       "      <td>267.0</td>\n",
       "      <td>360.0</td>\n",
       "      <td>Good</td>\n",
       "      <td>Urban</td>\n",
       "      <td>Y</td>\n",
       "      <td>9613.0</td>\n",
       "    </tr>\n",
       "    <tr>\n",
       "      <th>...</th>\n",
       "      <td>...</td>\n",
       "      <td>...</td>\n",
       "      <td>...</td>\n",
       "      <td>...</td>\n",
       "      <td>...</td>\n",
       "      <td>...</td>\n",
       "      <td>...</td>\n",
       "      <td>...</td>\n",
       "      <td>...</td>\n",
       "      <td>...</td>\n",
       "      <td>...</td>\n",
       "      <td>...</td>\n",
       "      <td>...</td>\n",
       "      <td>...</td>\n",
       "    </tr>\n",
       "    <tr>\n",
       "      <th>609</th>\n",
       "      <td>LP002978</td>\n",
       "      <td>Female</td>\n",
       "      <td>No</td>\n",
       "      <td>0</td>\n",
       "      <td>Graduate</td>\n",
       "      <td>No</td>\n",
       "      <td>2900</td>\n",
       "      <td>0.0</td>\n",
       "      <td>71.0</td>\n",
       "      <td>360.0</td>\n",
       "      <td>Good</td>\n",
       "      <td>Rural</td>\n",
       "      <td>Y</td>\n",
       "      <td>2900.0</td>\n",
       "    </tr>\n",
       "    <tr>\n",
       "      <th>610</th>\n",
       "      <td>LP002979</td>\n",
       "      <td>Male</td>\n",
       "      <td>Yes</td>\n",
       "      <td>3</td>\n",
       "      <td>Graduate</td>\n",
       "      <td>No</td>\n",
       "      <td>4106</td>\n",
       "      <td>0.0</td>\n",
       "      <td>40.0</td>\n",
       "      <td>180.0</td>\n",
       "      <td>Good</td>\n",
       "      <td>Rural</td>\n",
       "      <td>Y</td>\n",
       "      <td>4106.0</td>\n",
       "    </tr>\n",
       "    <tr>\n",
       "      <th>611</th>\n",
       "      <td>LP002983</td>\n",
       "      <td>Male</td>\n",
       "      <td>Yes</td>\n",
       "      <td>1</td>\n",
       "      <td>Graduate</td>\n",
       "      <td>No</td>\n",
       "      <td>8072</td>\n",
       "      <td>240.0</td>\n",
       "      <td>253.0</td>\n",
       "      <td>360.0</td>\n",
       "      <td>Good</td>\n",
       "      <td>Urban</td>\n",
       "      <td>Y</td>\n",
       "      <td>8312.0</td>\n",
       "    </tr>\n",
       "    <tr>\n",
       "      <th>612</th>\n",
       "      <td>LP002984</td>\n",
       "      <td>Male</td>\n",
       "      <td>Yes</td>\n",
       "      <td>2</td>\n",
       "      <td>Graduate</td>\n",
       "      <td>No</td>\n",
       "      <td>7583</td>\n",
       "      <td>0.0</td>\n",
       "      <td>187.0</td>\n",
       "      <td>360.0</td>\n",
       "      <td>Good</td>\n",
       "      <td>Urban</td>\n",
       "      <td>Y</td>\n",
       "      <td>7583.0</td>\n",
       "    </tr>\n",
       "    <tr>\n",
       "      <th>613</th>\n",
       "      <td>LP002990</td>\n",
       "      <td>Female</td>\n",
       "      <td>No</td>\n",
       "      <td>0</td>\n",
       "      <td>Graduate</td>\n",
       "      <td>Yes</td>\n",
       "      <td>4583</td>\n",
       "      <td>0.0</td>\n",
       "      <td>133.0</td>\n",
       "      <td>360.0</td>\n",
       "      <td>Bad</td>\n",
       "      <td>Semiurban</td>\n",
       "      <td>N</td>\n",
       "      <td>4583.0</td>\n",
       "    </tr>\n",
       "  </tbody>\n",
       "</table>\n",
       "<p>517 rows × 14 columns</p>\n",
       "</div>"
      ],
      "text/plain": [
       "      Loan_ID  Gender Married Dependents     Education Self_Employed  \\\n",
       "1    LP001003    Male     Yes          1      Graduate            No   \n",
       "2    LP001005    Male     Yes          0      Graduate           Yes   \n",
       "3    LP001006    Male     Yes          0  Not Graduate            No   \n",
       "4    LP001008    Male      No          0      Graduate            No   \n",
       "5    LP001011    Male     Yes          2      Graduate           Yes   \n",
       "..        ...     ...     ...        ...           ...           ...   \n",
       "609  LP002978  Female      No          0      Graduate            No   \n",
       "610  LP002979    Male     Yes          3      Graduate            No   \n",
       "611  LP002983    Male     Yes          1      Graduate            No   \n",
       "612  LP002984    Male     Yes          2      Graduate            No   \n",
       "613  LP002990  Female      No          0      Graduate           Yes   \n",
       "\n",
       "     ApplicantIncome  CoapplicantIncome  LoanAmount  Loan_Amount_Term  \\\n",
       "1               4583             1508.0       128.0             360.0   \n",
       "2               3000                0.0        66.0             360.0   \n",
       "3               2583             2358.0       120.0             360.0   \n",
       "4               6000                0.0       141.0             360.0   \n",
       "5               5417             4196.0       267.0             360.0   \n",
       "..               ...                ...         ...               ...   \n",
       "609             2900                0.0        71.0             360.0   \n",
       "610             4106                0.0        40.0             180.0   \n",
       "611             8072              240.0       253.0             360.0   \n",
       "612             7583                0.0       187.0             360.0   \n",
       "613             4583                0.0       133.0             360.0   \n",
       "\n",
       "    Credit_History Property_Area Loan_Status  overall_income  \n",
       "1             Good         Rural           N          6091.0  \n",
       "2             Good         Urban           Y          3000.0  \n",
       "3             Good         Urban           Y          4941.0  \n",
       "4             Good         Urban           Y          6000.0  \n",
       "5             Good         Urban           Y          9613.0  \n",
       "..             ...           ...         ...             ...  \n",
       "609           Good         Rural           Y          2900.0  \n",
       "610           Good         Rural           Y          4106.0  \n",
       "611           Good         Urban           Y          8312.0  \n",
       "612           Good         Urban           Y          7583.0  \n",
       "613            Bad     Semiurban           N          4583.0  \n",
       "\n",
       "[517 rows x 14 columns]"
      ]
     },
     "execution_count": 382,
     "metadata": {},
     "output_type": "execute_result"
    }
   ],
   "source": [
    "df[\"overall_income\"]=df[\"ApplicantIncome\"]+df[\"CoapplicantIncome\"]\n",
    "df"
   ]
  },
  {
   "cell_type": "code",
   "execution_count": 383,
   "id": "4c1acbda",
   "metadata": {},
   "outputs": [],
   "source": [
    "# and we do drop unimported column like loan id and both co applicant income and applicant income  why u drop because their is no use in anylises beause we have overall income  and laon id not make sense\n",
    "df=df.drop(columns=[\"Loan_ID\",\"ApplicantIncome\",\"CoapplicantIncome\"])\n"
   ]
  },
  {
   "cell_type": "markdown",
   "id": "ca8be679",
   "metadata": {},
   "source": [
    "we 517 coulumn after that"
   ]
  },
  {
   "cell_type": "code",
   "execution_count": 384,
   "id": "20aa1af2",
   "metadata": {},
   "outputs": [
    {
     "data": {
      "text/plain": [
       "['Gender',\n",
       " 'Married',\n",
       " 'Dependents',\n",
       " 'Education',\n",
       " 'Self_Employed',\n",
       " 'LoanAmount',\n",
       " 'Loan_Amount_Term',\n",
       " 'Credit_History',\n",
       " 'Property_Area',\n",
       " 'Loan_Status',\n",
       " 'overall_income']"
      ]
     },
     "execution_count": 384,
     "metadata": {},
     "output_type": "execute_result"
    }
   ],
   "source": [
    "df.columns.tolist()\n"
   ]
  },
  {
   "cell_type": "markdown",
   "id": "64dde04c",
   "metadata": {},
   "source": [
    "<h1>now we clean fulll data proerly </h1>\n",
    "<h2>save new data or clean data</h2>"
   ]
  },
  {
   "cell_type": "code",
   "execution_count": 413,
   "id": "2c7e156b",
   "metadata": {},
   "outputs": [],
   "source": [
    "df.to_excel(\"cleans_Loan_data.xlsx\", index=False)\n",
    "import pandas as pd\n",
    "\n"
   ]
  },
  {
   "cell_type": "code",
   "execution_count": 444,
   "id": "d8ece7b6",
   "metadata": {},
   "outputs": [
    {
     "name": "stdout",
     "output_type": "stream",
     "text": [
      "['Gender', 'Married', 'Dependents', 'Education', 'Self_Employed', 'LoanAmount', 'Loan_Amount_Term', 'Credit_History', 'Property_Area', 'Loan_Status', 'overall_income']\n"
     ]
    }
   ],
   "source": [
    "df = pd.read_excel(\"cleans_Loan_data.xlsx\")\n",
    "\n",
    "# Strip spaces from column names\n",
    "df.columns = df.columns.str.strip()\n",
    "\n",
    "# Check all columns\n",
    "print(df.columns.tolist())"
   ]
  },
  {
   "cell_type": "markdown",
   "id": "4a0263f6",
   "metadata": {},
   "source": [
    "<h1>data analises start form here after data clean</h1>"
   ]
  },
  {
   "cell_type": "code",
   "execution_count": 445,
   "id": "f8fd1367",
   "metadata": {},
   "outputs": [
    {
     "data": {
      "text/plain": [
       "['Gender',\n",
       " 'Married',\n",
       " 'Dependents',\n",
       " 'Education',\n",
       " 'Self_Employed',\n",
       " 'LoanAmount',\n",
       " 'Loan_Amount_Term',\n",
       " 'Credit_History',\n",
       " 'Property_Area',\n",
       " 'Loan_Status',\n",
       " 'overall_income']"
      ]
     },
     "execution_count": 445,
     "metadata": {},
     "output_type": "execute_result"
    }
   ],
   "source": [
    "df.columns.tolist()\n"
   ]
  },
  {
   "cell_type": "code",
   "execution_count": 446,
   "id": "c906400a",
   "metadata": {},
   "outputs": [
    {
     "data": {
      "text/plain": [
       "['Gender',\n",
       " 'Married',\n",
       " 'Dependents',\n",
       " 'Education',\n",
       " 'Self_Employed',\n",
       " 'LoanAmount',\n",
       " 'Loan_Amount_Term',\n",
       " 'Credit_History',\n",
       " 'Property_Area',\n",
       " 'Loan_Status',\n",
       " 'overall_income']"
      ]
     },
     "execution_count": 446,
     "metadata": {},
     "output_type": "execute_result"
    }
   ],
   "source": [
    "df.columns.tolist()"
   ]
  },
  {
   "cell_type": "code",
   "execution_count": 387,
   "id": "4fc74977",
   "metadata": {},
   "outputs": [
    {
     "data": {
      "text/html": [
       "<div>\n",
       "<style scoped>\n",
       "    .dataframe tbody tr th:only-of-type {\n",
       "        vertical-align: middle;\n",
       "    }\n",
       "\n",
       "    .dataframe tbody tr th {\n",
       "        vertical-align: top;\n",
       "    }\n",
       "\n",
       "    .dataframe thead th {\n",
       "        text-align: right;\n",
       "    }\n",
       "</style>\n",
       "<table border=\"1\" class=\"dataframe\">\n",
       "  <thead>\n",
       "    <tr style=\"text-align: right;\">\n",
       "      <th></th>\n",
       "      <th>overall_income</th>\n",
       "      <th>LoanAmount</th>\n",
       "    </tr>\n",
       "  </thead>\n",
       "  <tbody>\n",
       "    <tr>\n",
       "      <th>count</th>\n",
       "      <td>517.000000</td>\n",
       "      <td>517.000000</td>\n",
       "    </tr>\n",
       "    <tr>\n",
       "      <th>mean</th>\n",
       "      <td>7097.289981</td>\n",
       "      <td>146.145068</td>\n",
       "    </tr>\n",
       "    <tr>\n",
       "      <th>std</th>\n",
       "      <td>6654.233938</td>\n",
       "      <td>84.920461</td>\n",
       "    </tr>\n",
       "    <tr>\n",
       "      <th>min</th>\n",
       "      <td>1442.000000</td>\n",
       "      <td>9.000000</td>\n",
       "    </tr>\n",
       "    <tr>\n",
       "      <th>25%</th>\n",
       "      <td>4166.000000</td>\n",
       "      <td>100.000000</td>\n",
       "    </tr>\n",
       "    <tr>\n",
       "      <th>50%</th>\n",
       "      <td>5391.000000</td>\n",
       "      <td>128.000000</td>\n",
       "    </tr>\n",
       "    <tr>\n",
       "      <th>75%</th>\n",
       "      <td>7551.000000</td>\n",
       "      <td>168.000000</td>\n",
       "    </tr>\n",
       "    <tr>\n",
       "      <th>max</th>\n",
       "      <td>81000.000000</td>\n",
       "      <td>700.000000</td>\n",
       "    </tr>\n",
       "  </tbody>\n",
       "</table>\n",
       "</div>"
      ],
      "text/plain": [
       "       overall_income  LoanAmount\n",
       "count      517.000000  517.000000\n",
       "mean      7097.289981  146.145068\n",
       "std       6654.233938   84.920461\n",
       "min       1442.000000    9.000000\n",
       "25%       4166.000000  100.000000\n",
       "50%       5391.000000  128.000000\n",
       "75%       7551.000000  168.000000\n",
       "max      81000.000000  700.000000"
      ]
     },
     "execution_count": 387,
     "metadata": {},
     "output_type": "execute_result"
    }
   ],
   "source": [
    "# now we data anylises \n",
    "#univarient anylises (univareint measure +univareint plot) means one colum measure(descrcibe)mean median and us univarinet plot\n",
    "#bivarinet anylises (bivarent  measure +biivareint plot) same above bivarint combination of 2 column like that\n",
    "#same multi varient ke sath\n",
    "continous=['overall_income','LoanAmount']\n",
    "categorical=[ 'Gender','Married','Education','Self_Employed','Credit_History','Property_Area', 'Loan_Status']\n",
    "count=[\"Dependents\",\"Loan_Amount_Term\"]\n",
    "df[continous].describe()"
   ]
  },
  {
   "cell_type": "markdown",
   "id": "7c9d8f9e",
   "metadata": {},
   "source": [
    "All the data is in the form of observations. In overall income, people have a minimum income of $14,412 and a maximum of $81,000. The loan amounts range from $9,000 to $700,000.\n",
    "On average, the total income is $70,970 and the average loan amount is $146,000.\n",
    "\n",
    "\n"
   ]
  },
  {
   "cell_type": "code",
   "execution_count": 416,
   "id": "a2d5fad8",
   "metadata": {},
   "outputs": [
    {
     "data": {
      "text/html": [
       "<div>\n",
       "<style scoped>\n",
       "    .dataframe tbody tr th:only-of-type {\n",
       "        vertical-align: middle;\n",
       "    }\n",
       "\n",
       "    .dataframe tbody tr th {\n",
       "        vertical-align: top;\n",
       "    }\n",
       "\n",
       "    .dataframe thead th {\n",
       "        text-align: right;\n",
       "    }\n",
       "</style>\n",
       "<table border=\"1\" class=\"dataframe\">\n",
       "  <thead>\n",
       "    <tr style=\"text-align: right;\">\n",
       "      <th></th>\n",
       "      <th>Gender</th>\n",
       "      <th>Married</th>\n",
       "      <th>Education</th>\n",
       "      <th>Self_Employed</th>\n",
       "      <th>Credit_History</th>\n",
       "      <th>Property_Area</th>\n",
       "      <th>Loan_Status</th>\n",
       "    </tr>\n",
       "  </thead>\n",
       "  <tbody>\n",
       "    <tr>\n",
       "      <th>count</th>\n",
       "      <td>517</td>\n",
       "      <td>517</td>\n",
       "      <td>517</td>\n",
       "      <td>517</td>\n",
       "      <td>517</td>\n",
       "      <td>517</td>\n",
       "      <td>517</td>\n",
       "    </tr>\n",
       "    <tr>\n",
       "      <th>unique</th>\n",
       "      <td>2</td>\n",
       "      <td>2</td>\n",
       "      <td>2</td>\n",
       "      <td>2</td>\n",
       "      <td>2</td>\n",
       "      <td>3</td>\n",
       "      <td>2</td>\n",
       "    </tr>\n",
       "    <tr>\n",
       "      <th>top</th>\n",
       "      <td>Male</td>\n",
       "      <td>Yes</td>\n",
       "      <td>Graduate</td>\n",
       "      <td>No</td>\n",
       "      <td>Good</td>\n",
       "      <td>Semiurban</td>\n",
       "      <td>Y</td>\n",
       "    </tr>\n",
       "    <tr>\n",
       "      <th>freq</th>\n",
       "      <td>424</td>\n",
       "      <td>333</td>\n",
       "      <td>413</td>\n",
       "      <td>448</td>\n",
       "      <td>443</td>\n",
       "      <td>205</td>\n",
       "      <td>360</td>\n",
       "    </tr>\n",
       "  </tbody>\n",
       "</table>\n",
       "</div>"
      ],
      "text/plain": [
       "       Gender Married Education Self_Employed Credit_History Property_Area  \\\n",
       "count     517     517       517           517            517           517   \n",
       "unique      2       2         2             2              2             3   \n",
       "top      Male     Yes  Graduate            No           Good     Semiurban   \n",
       "freq      424     333       413           448            443           205   \n",
       "\n",
       "       Loan_Status  \n",
       "count          517  \n",
       "unique           2  \n",
       "top              Y  \n",
       "freq           360  "
      ]
     },
     "execution_count": 416,
     "metadata": {},
     "output_type": "execute_result"
    }
   ],
   "source": [
    "df[categorical].describe()"
   ]
  },
  {
   "cell_type": "markdown",
   "id": "f4163887",
   "metadata": {},
   "source": [
    "> The dataset contains 517 applicants. Most of them are **Male (424)** and **Married (333)**. A large proportion are **Graduates (413)** and **not self-employed (448)**, indicating stable employment backgrounds. Most applicants have a **Good credit history (443)**, and properties are primarily located in **Semiurban areas (205)**. Overall, **360 applicants were approved for loans**, showing a generally positive approval trend.\n"
   ]
  },
  {
   "cell_type": "markdown",
   "id": "b1da8a6d",
   "metadata": {},
   "source": [
    "single  univarient question\n",
    "Question in usnivarent                          <h1 style=\"color:red\">single contnous me answer direct describe use krna</h1>\n",
    "\n",
    "How many males and females are present in the loan dataset?\n",
    "\n",
    "ans.male 424 and female 93\n",
    "\n",
    "How many people are married?\n",
    "\n",
    "ans 333 are married and 184 are female\n",
    "\n",
    "What is the frequency of dependents (from maximum to minimum)?\n",
    "\n",
    "ans   0:295  ,1:85,2:92,3:45\n",
    "\n",
    "How many people are graduates?\n",
    "\n",
    "ans :413 gradute and 104 non graduate\n",
    "\n",
    "How many people are self-employed?\n",
    "\n",
    "448 and 69\n",
    "\n",
    "Find the mean, median, etc., of the loan amount.?\n",
    "\n",
    "ans The loan amounts range from $9,000 to $700,000.\n",
    "On average, the total income is $70,970 and the average loan amount is $146,000.\n",
    "\n",
    "\n",
    "\n",
    "What is the most common loan amount term (maximum number of people applied for)?\n",
    "\n",
    "360 month\n",
    "\n",
    "How many people have a good credit history?\n",
    "\n",
    "443 have good and 74 bad\n",
    "\n",
    "What is the mode of the property area?\n",
    "semiurban\n",
    "\n",
    "How many people are eligible for a loan?\n",
    "360 perople\n",
    "\n",
    "Find the mean and mode of overall income.?\n",
    " In overall income, people have a minimum income of $14,412 and a maximum of $81,000. \n",
    "\n"
   ]
  },
  {
   "cell_type": "code",
   "execution_count": 417,
   "id": "66b75082",
   "metadata": {},
   "outputs": [
    {
     "data": {
      "text/plain": [
       "['Gender',\n",
       " 'Married',\n",
       " 'Dependents',\n",
       " 'Education',\n",
       " 'Self_Employed',\n",
       " 'LoanAmount',\n",
       " 'Loan_Amount_Term',\n",
       " 'Credit_History',\n",
       " 'Property_Area',\n",
       " 'Loan_Status',\n",
       " 'overall_income']"
      ]
     },
     "execution_count": 417,
     "metadata": {},
     "output_type": "execute_result"
    }
   ],
   "source": [
    "df.columns.tolist()"
   ]
  },
  {
   "cell_type": "markdown",
   "id": "42e8f166",
   "metadata": {},
   "source": [
    "what is the avg loan amount?\n"
   ]
  },
  {
   "cell_type": "code",
   "execution_count": 418,
   "id": "7f07e717",
   "metadata": {},
   "outputs": [
    {
     "data": {
      "image/png": "[encoded data removed]",
      "text/plain": [
       "<Figure size 1000x600 with 1 Axes>"
      ]
     },
     "metadata": {},
     "output_type": "display_data"
    }
   ],
   "source": [
    "import matplotlib.pyplot as plt\n",
    "import numpy as np\n",
    "\n",
    "plt.figure(figsize=(10,6))  # 👈 width=10, height=6 — bigger graph\n",
    "plt.hist(df[\"LoanAmount\"], bins=30, edgecolor='black', alpha=0.7)\n",
    "plt.title(\"Loan Amount Distribution\")\n",
    "plt.xlabel(\"Loan Amount\")\n",
    "plt.ylabel(\"Frequency\")\n",
    "\n",
    "plt.xticks(np.arange(100, df[\"LoanAmount\"].max()+50, 50))\n",
    "plt.show()\n"
   ]
  },
  {
   "cell_type": "markdown",
   "id": "3311295c",
   "metadata": {},
   "source": [
    " The loan amounts range from $9,000 to $700,000.\n",
    "On average, the total income is $70,970 and the average loan amount is $146,000.\n"
   ]
  },
  {
   "cell_type": "code",
   "execution_count": 419,
   "id": "78131254",
   "metadata": {},
   "outputs": [
    {
     "data": {
      "image/png": "[encoded data removed]",
      "text/plain": [
       "<Figure size 1000x600 with 1 Axes>"
      ]
     },
     "metadata": {},
     "output_type": "display_data"
    }
   ],
   "source": [
    "import matplotlib.pyplot as plt\n",
    "import numpy as np\n",
    "\n",
    "plt.figure(figsize=(10,6))\n",
    "plt.hist(df[\"overall_income\"], bins=25, edgecolor='black', alpha=0.7)\n",
    "plt.title(\"Overall Income Distribution\")\n",
    "plt.xlabel(\"Overall Income\")\n",
    "plt.ylabel(\"Frequency\")\n",
    "\n",
    "# 👇 0 se 4000 tak har 500 pe tick\n",
    "plt.xticks(np.arange(0, 50001, 5000))\n",
    "\n",
    "plt.show()\n"
   ]
  },
  {
   "cell_type": "markdown",
   "id": "bbf67ef9",
   "metadata": {},
   "source": [
    "All the data is in the form of observations. In overall income, people have a minimum income of $14,412 and a maximum of $81,000."
   ]
  },
  {
   "cell_type": "code",
   "execution_count": 420,
   "id": "c08d39fe",
   "metadata": {},
   "outputs": [
    {
     "data": {
      "text/html": [
       "<div>\n",
       "<style scoped>\n",
       "    .dataframe tbody tr th:only-of-type {\n",
       "        vertical-align: middle;\n",
       "    }\n",
       "\n",
       "    .dataframe tbody tr th {\n",
       "        vertical-align: top;\n",
       "    }\n",
       "\n",
       "    .dataframe thead th {\n",
       "        text-align: right;\n",
       "    }\n",
       "</style>\n",
       "<table border=\"1\" class=\"dataframe\">\n",
       "  <thead>\n",
       "    <tr style=\"text-align: right;\">\n",
       "      <th></th>\n",
       "      <th>overall_income</th>\n",
       "      <th>LoanAmount</th>\n",
       "    </tr>\n",
       "  </thead>\n",
       "  <tbody>\n",
       "    <tr>\n",
       "      <th>count</th>\n",
       "      <td>517.000000</td>\n",
       "      <td>517.000000</td>\n",
       "    </tr>\n",
       "    <tr>\n",
       "      <th>mean</th>\n",
       "      <td>7097.289981</td>\n",
       "      <td>146.145068</td>\n",
       "    </tr>\n",
       "    <tr>\n",
       "      <th>std</th>\n",
       "      <td>6654.233938</td>\n",
       "      <td>84.920461</td>\n",
       "    </tr>\n",
       "    <tr>\n",
       "      <th>min</th>\n",
       "      <td>1442.000000</td>\n",
       "      <td>9.000000</td>\n",
       "    </tr>\n",
       "    <tr>\n",
       "      <th>25%</th>\n",
       "      <td>4166.000000</td>\n",
       "      <td>100.000000</td>\n",
       "    </tr>\n",
       "    <tr>\n",
       "      <th>50%</th>\n",
       "      <td>5391.000000</td>\n",
       "      <td>128.000000</td>\n",
       "    </tr>\n",
       "    <tr>\n",
       "      <th>75%</th>\n",
       "      <td>7551.000000</td>\n",
       "      <td>168.000000</td>\n",
       "    </tr>\n",
       "    <tr>\n",
       "      <th>max</th>\n",
       "      <td>81000.000000</td>\n",
       "      <td>700.000000</td>\n",
       "    </tr>\n",
       "  </tbody>\n",
       "</table>\n",
       "</div>"
      ],
      "text/plain": [
       "       overall_income  LoanAmount\n",
       "count      517.000000  517.000000\n",
       "mean      7097.289981  146.145068\n",
       "std       6654.233938   84.920461\n",
       "min       1442.000000    9.000000\n",
       "25%       4166.000000  100.000000\n",
       "50%       5391.000000  128.000000\n",
       "75%       7551.000000  168.000000\n",
       "max      81000.000000  700.000000"
      ]
     },
     "execution_count": 420,
     "metadata": {},
     "output_type": "execute_result"
    }
   ],
   "source": [
    "# now we data anylises \n",
    "#univarient anylises (univareint measure +univareint plot) means one colum measure(descrcibe)mean median and us univarinet plot\n",
    "#bivarinet anylises (bivarent  measure +biivareint plot) same above bivarint combination of 2 column like that\n",
    "#same multi varient ke sath\n",
    "continous=['overall_income','LoanAmount']\n",
    "categorical=[ 'Gender','Married','Education','Self_Employed','Credit_History','Property_Area', 'Loan_Status']\n",
    "count=[\"Dependents\",\"Loan_Amount_Term\"]\n",
    "df[continous].describe()"
   ]
  },
  {
   "cell_type": "markdown",
   "id": "0b7da7c1",
   "metadata": {},
   "source": [
    "<h1>bivarient anylises</h1\n"
   ]
  },
  {
   "cell_type": "markdown",
   "id": "6ac42962",
   "metadata": {},
   "source": [
    "Make sense quesstion only \n",
    "\n",
    "Q1. How many married people are eligible for a loan?\n",
    "ans 243\n",
    "\n",
    "Q2. How many male and female applicants are eligible for a loan?\n",
    "ans 300\n",
    "\n",
    "Q3. How many people with zero dependents are eligible for a loan, and why\n",
    "ans 0:295  ,1:85,2:92 ,3:45\n",
    "\n",
    "Q4. How many educated people are eligible for a loan?\n",
    "ans : 294\n",
    "\n",
    "Q5. How many self-employed people are eligible for a loan?\n",
    "ans 46\n",
    "\n",
    "\n",
    "Q6. Find the average loan amount of people who are eligible, and compare it with the overall average loan amount of eligible applicants.\n",
    "Average loan amount of eligible people (Loan_Status = Y): 144.0\n",
    "\n",
    "Overall average loan amount (all applicants): 146.145\n",
    "\n",
    "Observation:\n",
    "\n",
    "Eligible applicants have a slightly lower average loan amount compared to the overall average.\n",
    "\n",
    "This means people who are eligible tend to have loans a bit smaller than the overall average.\n",
    "\n",
    "Q7. Find the average loan amount term of people who are eligible for a loan, and identify the most frequently occurring loan amount term.\n",
    "Average loan term for eligible applicants: ~342 months\n",
    "\n",
    "Most common (frequent) loan term: 360 months\n",
    "\n",
    "Most people eligible for a loan have long-term loans (30 years).\n",
    "\n",
    "Q8. How many people with a good credit history are eligible for a loan?\n",
    "Eligible applicants (Loan_Status = Y) with good credit history: 353 people\n",
    "\n",
    "Observation: Majority of eligible applicants have a good credit history.\n",
    "\n",
    "\n",
    "Q9. How many people with semi-urban and rural properties are eligible for a loan or not?\n",
    "\n",
    "\n",
    "Semi-Urban: Eligible (Y) = 160, Not eligible (N) = 45\n",
    "\n",
    "Rural: Eligible (Y) = 94, Not eligible (N) = 59\n",
    "\n",
    "Majority of eligible applicants are from semi-urban areas.\n",
    "\n",
    "\n",
    "Q10. Find the average overall income and compare it between eligible and non-eligible applicants.\n",
    "ans:Average overall income of eligible applicants (Y): 6985.91\n",
    "\n",
    "Average overall income of not eligible applicants (N): 7352.69\n",
    "\n",
    "Observation:\n",
    "\n",
    "Surprisingly, not eligible applicants have slightly higher average income than eligible ones"
   ]
  },
  {
   "cell_type": "code",
   "execution_count": 421,
   "id": "65fd0c71",
   "metadata": {},
   "outputs": [
    {
     "data": {
      "text/plain": [
       "['Gender',\n",
       " 'Married',\n",
       " 'Dependents',\n",
       " 'Education',\n",
       " 'Self_Employed',\n",
       " 'LoanAmount',\n",
       " 'Loan_Amount_Term',\n",
       " 'Credit_History',\n",
       " 'Property_Area',\n",
       " 'Loan_Status',\n",
       " 'overall_income']"
      ]
     },
     "execution_count": 421,
     "metadata": {},
     "output_type": "execute_result"
    }
   ],
   "source": [
    "df.columns.tolist()"
   ]
  },
  {
   "cell_type": "code",
   "execution_count": 422,
   "id": "e0342a44",
   "metadata": {},
   "outputs": [
    {
     "data": {
      "text/plain": [
       "Loan_Status\n",
       "N    7352.694268\n",
       "Y    6985.905333\n",
       "Name: overall_income, dtype: float64"
      ]
     },
     "execution_count": 422,
     "metadata": {},
     "output_type": "execute_result"
    }
   ],
   "source": [
    "\n",
    "\n",
    "df.groupby(\"Loan_Status\")[\"overall_income\"].mean()"
   ]
  },
  {
   "cell_type": "code",
   "execution_count": 423,
   "id": "662b3776",
   "metadata": {},
   "outputs": [
    {
     "data": {
      "text/html": [
       "<div>\n",
       "<style scoped>\n",
       "    .dataframe tbody tr th:only-of-type {\n",
       "        vertical-align: middle;\n",
       "    }\n",
       "\n",
       "    .dataframe tbody tr th {\n",
       "        vertical-align: top;\n",
       "    }\n",
       "\n",
       "    .dataframe thead th {\n",
       "        text-align: right;\n",
       "    }\n",
       "</style>\n",
       "<table border=\"1\" class=\"dataframe\">\n",
       "  <thead>\n",
       "    <tr style=\"text-align: right;\">\n",
       "      <th>Loan_Status</th>\n",
       "      <th>N</th>\n",
       "      <th>Y</th>\n",
       "      <th>All</th>\n",
       "    </tr>\n",
       "    <tr>\n",
       "      <th>Property_Area</th>\n",
       "      <th></th>\n",
       "      <th></th>\n",
       "      <th></th>\n",
       "    </tr>\n",
       "  </thead>\n",
       "  <tbody>\n",
       "    <tr>\n",
       "      <th>Rural</th>\n",
       "      <td>59</td>\n",
       "      <td>94</td>\n",
       "      <td>153</td>\n",
       "    </tr>\n",
       "    <tr>\n",
       "      <th>Semiurban</th>\n",
       "      <td>45</td>\n",
       "      <td>160</td>\n",
       "      <td>205</td>\n",
       "    </tr>\n",
       "    <tr>\n",
       "      <th>Urban</th>\n",
       "      <td>53</td>\n",
       "      <td>106</td>\n",
       "      <td>159</td>\n",
       "    </tr>\n",
       "    <tr>\n",
       "      <th>All</th>\n",
       "      <td>157</td>\n",
       "      <td>360</td>\n",
       "      <td>517</td>\n",
       "    </tr>\n",
       "  </tbody>\n",
       "</table>\n",
       "</div>"
      ],
      "text/plain": [
       "Loan_Status      N    Y  All\n",
       "Property_Area               \n",
       "Rural           59   94  153\n",
       "Semiurban       45  160  205\n",
       "Urban           53  106  159\n",
       "All            157  360  517"
      ]
     },
     "execution_count": 423,
     "metadata": {},
     "output_type": "execute_result"
    }
   ],
   "source": [
    "import pandas as pd\n",
    "\n",
    "pd.crosstab(df[\"Property_Area\"], df[\"Loan_Status\"] ,margins=\"True\")\n",
    "\n",
    "#or\n",
    "\n",
    "#df.groupby(\"Loan_Status\")[\"LoanAmount\"].mean()\n",
    "\n",
    "\n"
   ]
  },
  {
   "cell_type": "code",
   "execution_count": 424,
   "id": "04a5cf89",
   "metadata": {},
   "outputs": [
    {
     "data": {
      "text/plain": [
       "np.float64(146.1450676982592)"
      ]
     },
     "execution_count": 424,
     "metadata": {},
     "output_type": "execute_result"
    }
   ],
   "source": [
    "df[\"LoanAmount\"].mean()"
   ]
  },
  {
   "cell_type": "code",
   "execution_count": null,
   "id": "6b791ff2",
   "metadata": {},
   "outputs": [
    {
     "data": {
      "image/png": "[encoded data removed]",
      "text/plain": [
       "<Figure size 511.111x500 with 1 Axes>"
      ]
     },
     "metadata": {},
     "output_type": "display_data"
    }
   ],
   "source": [
    "sns.catplot(x=\"Loan_Status\", y=\"Loan_Amount_Term\", kind=\"bar\", data=df)\n",
    "plt.title(\"Average Loan Amount term by Loan Status\")\n",
    "plt.show()"
   ]
  },
  {
   "cell_type": "code",
   "execution_count": 426,
   "id": "ae5dc499",
   "metadata": {},
   "outputs": [
    {
     "data": {
      "image/png": "[encoded data removed]",
      "text/plain": [
       "<Figure size 511.111x500 with 1 Axes>"
      ]
     },
     "metadata": {},
     "output_type": "display_data"
    }
   ],
   "source": [
    "sns.catplot(x=\"Loan_Status\", y=\"LoanAmount\", kind=\"bar\", data=df)\n",
    "plt.title(\"Average Loan Amount by Loan Status\")\n",
    "plt.show()"
   ]
  },
  {
   "cell_type": "code",
   "execution_count": 427,
   "id": "65482237",
   "metadata": {},
   "outputs": [
    {
     "data": {
      "image/png": "[encoded data removed]",
      "text/plain": [
       "<Figure size 640x480 with 1 Axes>"
      ]
     },
     "metadata": {},
     "output_type": "display_data"
    }
   ],
   "source": [
    "sns.countplot(x=\"Loan_Status\", hue=\"Credit_History\", data=df)\n",
    "plt.title(\"Credit History Count by Loan Status\")\n",
    "plt.show()\n"
   ]
  },
  {
   "cell_type": "code",
   "execution_count": 428,
   "id": "b27148be",
   "metadata": {},
   "outputs": [
    {
     "data": {
      "image/png": "[encoded data removed]",
      "text/plain": [
       "<Figure size 511.111x500 with 1 Axes>"
      ]
     },
     "metadata": {},
     "output_type": "display_data"
    }
   ],
   "source": [
    "sns.catplot(x=\"Loan_Status\", y=\"overall_income\", kind=\"bar\", data=df)\n",
    "plt.title(\"property area vs overall_income\")\n",
    "plt.show()"
   ]
  },
  {
   "cell_type": "markdown",
   "id": "b881097e",
   "metadata": {},
   "source": [
    "\n",
    "\n",
    "multivarient\n",
    "\n",
    "\n",
    "\n",
    "\n",
    "1>How does being Self-Employed with a higher Loan Amount affect loan approval?\n",
    "\n",
    "ans>Self-employed applicants with approved loans (≈$178.6K) receive higher loan amounts than those rejected (≈$155.7K). In contrast, non-self-employed applicants with approved loans (≈$138.9K) get slightly lower amounts than those rejected (≈$150.3K) — showing that self-employed individuals tend to secure larger loan approvals.\n",
    "\n",
    "Do Self-Employed applicants with good Credit History get loans more easily?\\\n",
    "Applicants with Good Credit History have a high loan approval rate:\n",
    "\n",
    "Non–Self-Employed → 307/385 ≈ 79.7% approved\n",
    "\n",
    "Self-Employed → 46/58 ≈ 79.3% approved\n",
    "\n",
    "Applicants with Bad Credit History have a very low approval rate:\n",
    "\n",
    "Non–Self-Employed → 7/63 ≈ 11% approved\n",
    "\n",
    "Self-Employed → 0/11 = 0% approved\n",
    "\n",
    "\n",
    "2>How does Self-Employment status combined with Overall Income affect Loan Status?\n",
    "ans>Observation with values:\n",
    "\n",
    "Non–Self-Employed (No):\n",
    "\n",
    "Rejected (N): $7,200.64\n",
    "\n",
    "Approved (Y): $6,559.96\n",
    "→ Approval slightly lower for higher income, so income alone doesn’t guarantee approval.\n",
    "\n",
    "Self-Employed (Yes):\n",
    "\n",
    "Rejected (N): $8,238.57\n",
    "\n",
    "Approved (Y): $9,893.41\n",
    "→ Higher income clearly increases approval chance for self-employed applicants.\n",
    "\n",
    "Conclusion:\n",
    "\n",
    "Self-employment + higher income → higher likelihood of loan approval\n",
    "\n",
    "Non–self-employed applicants’ income has less impact on approval.\n",
    "\n",
    "3>Does the combination of Loan Amount and Loan Amount Term influence loan \n",
    "approvals?\n",
    "\n",
    "ans>Short-term loans (36–120 months): Approved amounts vary from $3,154.67 to $7,883, showing mixed approval.\n",
    "\n",
    "Medium-term loans (180–300 months): Higher loan amounts tend to get approved, e.g., 180 months approved = $10,127.85, 300 months approved = $17,241.20.\n",
    "\n",
    "Long-term loans (360–480 months): Approved loans are sometimes lower than rejected, e.g., 360 months approved = $6,642.93 vs rejected = $7,785.99, 480 months approved = $3,885 vs rejected = $4,412.\n",
    "\n",
    "Conclusion: Loan term and amount affect approval, but other factors like income and credit history also play a major role.\n",
    "\n",
    "4>How do Loan Amount and Credit History together affect Loan Status?\n",
    "\n",
    "Bad Credit History:\n",
    "\n",
    "Approved (Y) applicants have higher average loan amount (~$206.29) than rejected (N) (~$144.70).\n",
    "\n",
    "Suggests that for bad credit, smaller loans are more likely rejected, while slightly higher loans sometimes get approved (maybe rare exceptions).\n",
    "\n",
    "Good Credit History:\n",
    "\n",
    "Approved (Y) applicants have slightly lower average loan amount (~$142.76) than rejected (~$155.80).\n",
    "\n",
    "Suggests that for good credit, loan approval is not strictly based on amount; good credit itself favors approval.\n",
    "\n",
    "✅ Conclusion:\n",
    "\n",
    "Credit History is the main factor affecting loan approval.\n",
    "\n",
    "Loan Amount interacts differently:\n",
    "\n",
    "Bad credit → higher loans occasionally get approved\n",
    "\n",
    "Good credit → even slightly lower loans are approved\n",
    "\n",
    "Overall: Good credit → high chance of approval, independent of loan amount; Bad credit → amount may influence rare approvals.\n",
    "\n",
    "5>Do applicants with higher Loan Amount and higher Overall Income have better chances of loan approval?\n",
    "\n",
    "ans>Loan Amount vs Loan Status\n",
    "\n",
    "Average loan amount for rejected loans (N) is 151.06, which is slightly higher than approved loans (Y) 144.00.\n",
    "\n",
    "Interpretation: Loan amount alone does not guarantee approval. In fact, higher loan amounts may face slightly more scrutiny, which can result in a higher rejection rate.\n",
    "\n",
    "Overall Income vs Loan Status\n",
    "\n",
    "Average overall income for rejected loans is 7352.69, and for approved loans it is 6985.91.\n",
    "\n",
    "Interpretation: Surprisingly, the rejected applicants have a slightly higher average income than approved ones. This suggests that income alone is not the only deciding factor; other factors like credit history, property area, and debt-to-income ratio probably play a bigger role.\n",
    "\n",
    "Key Takeaways:\n",
    "\n",
    "Loan amount has a minor inverse relationship with approval here (higher amounts slightly more likely to be rejected).\n",
    "\n",
    "Overall income does not strongly affect approval in this dataset. Other factors (like credit history) are likely more important.\n",
    "\n",
    "\n",
    "\n",
    "\n",
    "6>How do Credit History and Property Area together affect loan approvals?\n",
    "Effect of Property Area and Credit History on Loan Status:\n",
    "\n",
    "Rural:\n",
    "\n",
    "Bad credit: 21/23 ≈ 91% rejected\n",
    "\n",
    "Good credit: 92/130 ≈ 71% approved\n",
    "\n",
    "Semiurban:\n",
    "\n",
    "Bad credit: 23/27 ≈ 85% rejected\n",
    "\n",
    "Good credit: 156/178 ≈ 88% approved\n",
    "\n",
    "Urban:\n",
    "\n",
    "Bad credit: 23/24 ≈ 96% rejected\n",
    "\n",
    "Good credit: 105/135 ≈ 78% approved\n",
    "\n",
    "Summary:\n",
    "\n",
    "Good credit history strongly increases loan approval (e.g., 88% in Semiurban).\n",
    "\n",
    "Bad credit almost always leads to rejection (>85% across all areas).\n",
    "\n",
    "Semiurban areas with good credit have the highest approval rate (88%).\n",
    "\n",
    "\n",
    "\n",
    "7>Do applicants with good Credit History and higher Overall Income have higher chances of loan approval?\n",
    "ans >Based on the maximum overall income values, applicants with Good Credit History and Loan Approved (Y) have the highest maximum income ($63,337) among the approved groups.\n",
    "\n",
    "Even though one applicant with Bad Credit History has a higher income ($81,000), their loan was rejected, indicating that Credit History is more important than just having a high income for loan approval.\n"
   ]
  },
  {
   "cell_type": "markdown",
   "id": "da549239",
   "metadata": {},
   "source": []
  },
  {
   "cell_type": "code",
   "execution_count": 429,
   "id": "f4bd0a70",
   "metadata": {},
   "outputs": [
    {
     "data": {
      "text/plain": [
       "['Gender',\n",
       " 'Married',\n",
       " 'Dependents',\n",
       " 'Education',\n",
       " 'Self_Employed',\n",
       " 'LoanAmount',\n",
       " 'Loan_Amount_Term',\n",
       " 'Credit_History',\n",
       " 'Property_Area',\n",
       " 'Loan_Status',\n",
       " 'overall_income']"
      ]
     },
     "execution_count": 429,
     "metadata": {},
     "output_type": "execute_result"
    }
   ],
   "source": [
    "df.columns.tolist()"
   ]
  },
  {
   "cell_type": "code",
   "execution_count": 430,
   "id": "42afcb1e",
   "metadata": {},
   "outputs": [
    {
     "data": {
      "text/plain": [
       "Self_Employed  Loan_Status\n",
       "No             N              150.268657\n",
       "               Y              138.936306\n",
       "Yes            N              155.695652\n",
       "               Y              178.565217\n",
       "Name: LoanAmount, dtype: float64"
      ]
     },
     "execution_count": 430,
     "metadata": {},
     "output_type": "execute_result"
    }
   ],
   "source": [
    "df.groupby([\"Self_Employed\",\"Loan_Status\"])[\"LoanAmount\"].mean()"
   ]
  },
  {
   "cell_type": "code",
   "execution_count": 431,
   "id": "6b81542d",
   "metadata": {},
   "outputs": [
    {
     "data": {
      "image/png": "[encoded data removed]",
      "text/plain": [
       "<Figure size 613.361x500 with 1 Axes>"
      ]
     },
     "metadata": {},
     "output_type": "display_data"
    }
   ],
   "source": [
    "sns.catplot(x=\"Loan_Status\", y=\"LoanAmount\", hue=\"Self_Employed\", kind=\"bar\",data=df)\n",
    "plt.title(\"Average Loan Amount by Loan Status and Employment Type\")\n",
    "plt.show()\n"
   ]
  },
  {
   "cell_type": "code",
   "execution_count": 432,
   "id": "36c99569",
   "metadata": {},
   "outputs": [
    {
     "data": {
      "text/html": [
       "<div>\n",
       "<style scoped>\n",
       "    .dataframe tbody tr th:only-of-type {\n",
       "        vertical-align: middle;\n",
       "    }\n",
       "\n",
       "    .dataframe tbody tr th {\n",
       "        vertical-align: top;\n",
       "    }\n",
       "\n",
       "    .dataframe thead th {\n",
       "        text-align: right;\n",
       "    }\n",
       "</style>\n",
       "<table border=\"1\" class=\"dataframe\">\n",
       "  <thead>\n",
       "    <tr style=\"text-align: right;\">\n",
       "      <th></th>\n",
       "      <th>Loan_Status</th>\n",
       "      <th>N</th>\n",
       "      <th>Y</th>\n",
       "      <th>All</th>\n",
       "    </tr>\n",
       "    <tr>\n",
       "      <th>Self_Employed</th>\n",
       "      <th>Credit_History</th>\n",
       "      <th></th>\n",
       "      <th></th>\n",
       "      <th></th>\n",
       "    </tr>\n",
       "  </thead>\n",
       "  <tbody>\n",
       "    <tr>\n",
       "      <th rowspan=\"2\" valign=\"top\">No</th>\n",
       "      <th>Bad</th>\n",
       "      <td>56</td>\n",
       "      <td>7</td>\n",
       "      <td>63</td>\n",
       "    </tr>\n",
       "    <tr>\n",
       "      <th>Good</th>\n",
       "      <td>78</td>\n",
       "      <td>307</td>\n",
       "      <td>385</td>\n",
       "    </tr>\n",
       "    <tr>\n",
       "      <th rowspan=\"2\" valign=\"top\">Yes</th>\n",
       "      <th>Bad</th>\n",
       "      <td>11</td>\n",
       "      <td>0</td>\n",
       "      <td>11</td>\n",
       "    </tr>\n",
       "    <tr>\n",
       "      <th>Good</th>\n",
       "      <td>12</td>\n",
       "      <td>46</td>\n",
       "      <td>58</td>\n",
       "    </tr>\n",
       "    <tr>\n",
       "      <th>All</th>\n",
       "      <th></th>\n",
       "      <td>157</td>\n",
       "      <td>360</td>\n",
       "      <td>517</td>\n",
       "    </tr>\n",
       "  </tbody>\n",
       "</table>\n",
       "</div>"
      ],
      "text/plain": [
       "Loan_Status                     N    Y  All\n",
       "Self_Employed Credit_History               \n",
       "No            Bad              56    7   63\n",
       "              Good             78  307  385\n",
       "Yes           Bad              11    0   11\n",
       "              Good             12   46   58\n",
       "All                           157  360  517"
      ]
     },
     "execution_count": 432,
     "metadata": {},
     "output_type": "execute_result"
    }
   ],
   "source": [
    "pd.crosstab([df[\"Self_Employed\"], df[\"Credit_History\"]], df[\"Loan_Status\"], margins=True)\n",
    "\n"
   ]
  },
  {
   "cell_type": "code",
   "execution_count": 433,
   "id": "e2b51d29",
   "metadata": {},
   "outputs": [
    {
     "data": {
      "image/png": "[encoded data removed]",
      "text/plain": [
       "<Figure size 640x480 with 1 Axes>"
      ]
     },
     "metadata": {},
     "output_type": "display_data"
    }
   ],
   "source": [
    "\n",
    "# Create summary table\n",
    "pivot = pd.crosstab(\n",
    "    [df[\"Credit_History\"], df[\"Self_Employed\"]],\n",
    "    df[\"Loan_Status\"]\n",
    ")\n",
    "\n",
    "# Plot grouped bar chart\n",
    "pivot.plot(kind=\"bar\")\n",
    "plt.title(\"Loan Status by Credit History and Self-Employment\")\n",
    "plt.ylabel(\"Count\")\n",
    "plt.show()\n"
   ]
  },
  {
   "cell_type": "code",
   "execution_count": 434,
   "id": "076a9edb",
   "metadata": {},
   "outputs": [
    {
     "data": {
      "image/png": "[encoded data removed]",
      "text/plain": [
       "<Figure size 646.611x500 with 1 Axes>"
      ]
     },
     "metadata": {},
     "output_type": "display_data"
    }
   ],
   "source": [
    "sns.catplot(x=\"Loan_Status\", y=\"LoanAmount\", hue=\"Loan_Amount_Term\", kind=\"bar\",data=df)\n",
    "plt.title(\"Average Loan Amount by Loan Status and Loan Amount_term\")\n",
    "plt.show()\n"
   ]
  },
  {
   "cell_type": "code",
   "execution_count": 435,
   "id": "94358fb2",
   "metadata": {},
   "outputs": [
    {
     "data": {
      "text/html": [
       "<div>\n",
       "<style scoped>\n",
       "    .dataframe tbody tr th:only-of-type {\n",
       "        vertical-align: middle;\n",
       "    }\n",
       "\n",
       "    .dataframe tbody tr th {\n",
       "        vertical-align: top;\n",
       "    }\n",
       "\n",
       "    .dataframe thead th {\n",
       "        text-align: right;\n",
       "    }\n",
       "</style>\n",
       "<table border=\"1\" class=\"dataframe\">\n",
       "  <thead>\n",
       "    <tr style=\"text-align: right;\">\n",
       "      <th></th>\n",
       "      <th>LoanAmount</th>\n",
       "      <th>overall_income</th>\n",
       "    </tr>\n",
       "    <tr>\n",
       "      <th>Loan_Status</th>\n",
       "      <th></th>\n",
       "      <th></th>\n",
       "    </tr>\n",
       "  </thead>\n",
       "  <tbody>\n",
       "    <tr>\n",
       "      <th>N</th>\n",
       "      <td>151.063694</td>\n",
       "      <td>7352.694268</td>\n",
       "    </tr>\n",
       "    <tr>\n",
       "      <th>Y</th>\n",
       "      <td>144.000000</td>\n",
       "      <td>6985.905333</td>\n",
       "    </tr>\n",
       "  </tbody>\n",
       "</table>\n",
       "</div>"
      ],
      "text/plain": [
       "             LoanAmount  overall_income\n",
       "Loan_Status                            \n",
       "N            151.063694     7352.694268\n",
       "Y            144.000000     6985.905333"
      ]
     },
     "execution_count": 435,
     "metadata": {},
     "output_type": "execute_result"
    }
   ],
   "source": [
    "df.groupby([\"Loan_Status\"])[[\"LoanAmount\",\"overall_income\"]].mean()"
   ]
  },
  {
   "cell_type": "code",
   "execution_count": 436,
   "id": "aed96129",
   "metadata": {},
   "outputs": [
    {
     "data": {
      "text/plain": [
       "<seaborn.axisgrid.FacetGrid at 0x1f8a357c290>"
      ]
     },
     "execution_count": 436,
     "metadata": {},
     "output_type": "execute_result"
    },
    {
     "data": {
      "image/png": "[encoded data removed]",
      "text/plain": [
       "<Figure size 511.111x500 with 1 Axes>"
      ]
     },
     "metadata": {},
     "output_type": "display_data"
    },
    {
     "data": {
      "image/png": "[encoded data removed]",
      "text/plain": [
       "<Figure size 511.111x500 with 1 Axes>"
      ]
     },
     "metadata": {},
     "output_type": "display_data"
    }
   ],
   "source": [
    "sns.catplot(x=\"Loan_Status\", y=\"LoanAmount\", kind=\"bar\", data=df)\n",
    "sns.catplot(x=\"Loan_Status\", y=\"overall_income\", kind=\"bar\", data=df)\n"
   ]
  },
  {
   "cell_type": "code",
   "execution_count": 437,
   "id": "a570651e",
   "metadata": {},
   "outputs": [
    {
     "data": {
      "text/html": [
       "<div>\n",
       "<style scoped>\n",
       "    .dataframe tbody tr th:only-of-type {\n",
       "        vertical-align: middle;\n",
       "    }\n",
       "\n",
       "    .dataframe tbody tr th {\n",
       "        vertical-align: top;\n",
       "    }\n",
       "\n",
       "    .dataframe thead th {\n",
       "        text-align: right;\n",
       "    }\n",
       "</style>\n",
       "<table border=\"1\" class=\"dataframe\">\n",
       "  <thead>\n",
       "    <tr style=\"text-align: right;\">\n",
       "      <th></th>\n",
       "      <th>Loan_Status</th>\n",
       "      <th>N</th>\n",
       "      <th>Y</th>\n",
       "      <th>All</th>\n",
       "    </tr>\n",
       "    <tr>\n",
       "      <th>Property_Area</th>\n",
       "      <th>Credit_History</th>\n",
       "      <th></th>\n",
       "      <th></th>\n",
       "      <th></th>\n",
       "    </tr>\n",
       "  </thead>\n",
       "  <tbody>\n",
       "    <tr>\n",
       "      <th rowspan=\"2\" valign=\"top\">Rural</th>\n",
       "      <th>Bad</th>\n",
       "      <td>21</td>\n",
       "      <td>2</td>\n",
       "      <td>23</td>\n",
       "    </tr>\n",
       "    <tr>\n",
       "      <th>Good</th>\n",
       "      <td>38</td>\n",
       "      <td>92</td>\n",
       "      <td>130</td>\n",
       "    </tr>\n",
       "    <tr>\n",
       "      <th rowspan=\"2\" valign=\"top\">Semiurban</th>\n",
       "      <th>Bad</th>\n",
       "      <td>23</td>\n",
       "      <td>4</td>\n",
       "      <td>27</td>\n",
       "    </tr>\n",
       "    <tr>\n",
       "      <th>Good</th>\n",
       "      <td>22</td>\n",
       "      <td>156</td>\n",
       "      <td>178</td>\n",
       "    </tr>\n",
       "    <tr>\n",
       "      <th rowspan=\"2\" valign=\"top\">Urban</th>\n",
       "      <th>Bad</th>\n",
       "      <td>23</td>\n",
       "      <td>1</td>\n",
       "      <td>24</td>\n",
       "    </tr>\n",
       "    <tr>\n",
       "      <th>Good</th>\n",
       "      <td>30</td>\n",
       "      <td>105</td>\n",
       "      <td>135</td>\n",
       "    </tr>\n",
       "    <tr>\n",
       "      <th>All</th>\n",
       "      <th></th>\n",
       "      <td>157</td>\n",
       "      <td>360</td>\n",
       "      <td>517</td>\n",
       "    </tr>\n",
       "  </tbody>\n",
       "</table>\n",
       "</div>"
      ],
      "text/plain": [
       "Loan_Status                     N    Y  All\n",
       "Property_Area Credit_History               \n",
       "Rural         Bad              21    2   23\n",
       "              Good             38   92  130\n",
       "Semiurban     Bad              23    4   27\n",
       "              Good             22  156  178\n",
       "Urban         Bad              23    1   24\n",
       "              Good             30  105  135\n",
       "All                           157  360  517"
      ]
     },
     "execution_count": 437,
     "metadata": {},
     "output_type": "execute_result"
    }
   ],
   "source": [
    "pd.crosstab([df[\"Property_Area\"], df[\"Credit_History\"]], df[\"Loan_Status\"], margins=True)"
   ]
  },
  {
   "cell_type": "code",
   "execution_count": 438,
   "id": "b5fd135c",
   "metadata": {},
   "outputs": [
    {
     "data": {
      "image/png": "[encoded data removed]",
      "text/plain": [
       "<Figure size 1000x600 with 1 Axes>"
      ]
     },
     "metadata": {},
     "output_type": "display_data"
    }
   ],
   "source": [
    "import pandas as pd\n",
    "import matplotlib.pyplot as plt\n",
    "\n",
    "pivot = pd.crosstab(\n",
    "    [df[\"Credit_History\"], df[\"Property_Area\"]],\n",
    "    df[\"Loan_Status\"]\n",
    ")\n",
    "\n",
    "# Plot grouped bar chart\n",
    "pivot.plot(kind=\"bar\", figsize=(10,6))\n",
    "plt.title(\"Loan Status by Credit History and Property Area\")  # updated title\n",
    "plt.ylabel(\"Count\")\n",
    "plt.xlabel(\"Credit History and Property Area\")\n",
    "plt.xticks(rotation=45)\n",
    "plt.show()\n"
   ]
  },
  {
   "cell_type": "code",
   "execution_count": 450,
   "id": "114bb920",
   "metadata": {},
   "outputs": [
    {
     "data": {
      "text/html": [
       "<div>\n",
       "<style scoped>\n",
       "    .dataframe tbody tr th:only-of-type {\n",
       "        vertical-align: middle;\n",
       "    }\n",
       "\n",
       "    .dataframe tbody tr th {\n",
       "        vertical-align: top;\n",
       "    }\n",
       "\n",
       "    .dataframe thead th {\n",
       "        text-align: right;\n",
       "    }\n",
       "</style>\n",
       "<table border=\"1\" class=\"dataframe\">\n",
       "  <thead>\n",
       "    <tr style=\"text-align: right;\">\n",
       "      <th></th>\n",
       "      <th>Credit_History</th>\n",
       "      <th>Loan_Status</th>\n",
       "      <th>overall_income</th>\n",
       "    </tr>\n",
       "  </thead>\n",
       "  <tbody>\n",
       "    <tr>\n",
       "      <th>0</th>\n",
       "      <td>Bad</td>\n",
       "      <td>N</td>\n",
       "      <td>81000.0</td>\n",
       "    </tr>\n",
       "    <tr>\n",
       "      <th>1</th>\n",
       "      <td>Bad</td>\n",
       "      <td>Y</td>\n",
       "      <td>39999.0</td>\n",
       "    </tr>\n",
       "    <tr>\n",
       "      <th>2</th>\n",
       "      <td>Good</td>\n",
       "      <td>N</td>\n",
       "      <td>35673.0</td>\n",
       "    </tr>\n",
       "    <tr>\n",
       "      <th>3</th>\n",
       "      <td>Good</td>\n",
       "      <td>Y</td>\n",
       "      <td>63337.0</td>\n",
       "    </tr>\n",
       "  </tbody>\n",
       "</table>\n",
       "</div>"
      ],
      "text/plain": [
       "  Credit_History Loan_Status  overall_income\n",
       "0            Bad           N         81000.0\n",
       "1            Bad           Y         39999.0\n",
       "2           Good           N         35673.0\n",
       "3           Good           Y         63337.0"
      ]
     },
     "execution_count": 450,
     "metadata": {},
     "output_type": "execute_result"
    }
   ],
   "source": [
    "df.groupby(['Credit_History', 'Loan_Status'])['overall_income'].max().reset_index()\n"
   ]
  },
  {
   "cell_type": "markdown",
   "id": "809eb9de",
   "metadata": {},
   "source": [
    "<h2>Conclusion</h2>\n",
    "The  analysis reveals that credit history is the strongest determinant of loan approval, outweighing the effects of income, employment type, or loan amount. Self-employed applicants with higher incomes tend to receive larger and more frequent approvals compared to those with lower earnings. While loan amount and term show mixed effects, approvals are still mainly driven by good credit records. Property area interacts with credit history, where semi-urban applicants with good credit have the highest approval rates. Overall, a good credit history combined with stable income significantly increases the likelihood of loan approval."
   ]
  },
  {
   "cell_type": "markdown",
   "id": "236e4a10",
   "metadata": {},
   "source": []
  }
 ],
 "metadata": {
  "kernelspec": {
   "display_name": "Python 3",
   "language": "python",
   "name": "python3"
  },
  "language_info": {
   "codemirror_mode": {
    "name": "ipython",
    "version": 3
   },
   "file_extension": ".py",
   "mimetype": "text/x-python",
   "name": "python",
   "nbconvert_exporter": "python",
   "pygments_lexer": "ipython3",
   "version": "3.11.0"
  }
 },
 "nbformat": 4,
 "nbformat_minor": 5
}
